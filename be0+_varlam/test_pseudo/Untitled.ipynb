{
 "cells": [
  {
   "cell_type": "code",
   "execution_count": 353,
   "metadata": {
    "code_folding": [
     86,
     99,
     107,
     208,
     232,
     241,
     248,
     255,
     266,
     272,
     278,
     287,
     347,
     355,
     363,
     375,
     383,
     391,
     398,
     416,
     435,
     491,
     500,
     509,
     528,
     536
    ]
   },
   "outputs": [],
   "source": [
    "# Alejandra Mendez - 28/04/2019\n",
    "# v1.2\n",
    "#\n",
    "#  * this program implements hyperoptimization of NLAMVAR parameters in\n",
    "#     autosctructure code (max=20)\n",
    "#  * the autovarlambda.f90 subroutine is compiled with f2py and incorporated\n",
    "#     to this code\n",
    "#  * the autostructure code is executed using system\n",
    "#  * the number of configurations defined by 'cfgs' in .yaml is considered\n",
    "#     in the computation\n",
    "#  * multiple excited energies can be considered via 'nener'\n",
    "#  * the number of elements in array 'weight' must be equal\n",
    "#     to the amount of energies 'nener' considered\n",
    "#\n",
    "#  * input variables:\n",
    "#           cfgs     -- number of configurations to be included in the calculation\n",
    "#           initer   -- initial number of evaluations (first prior)\n",
    "#           maxevals -- number of evaluations in minimization\n",
    "#           modpot   -- optimize model potential (True/False)\n",
    "#           polpot   -- optimize polarization potential (True/False)\n",
    "#           pseudo   -- optimize pseudostates (True/False)\n",
    "#           nlamvar  -- number of lambda parameters to be varied\n",
    "#           maxlam   -- maximum lambda value\n",
    "#           minlam   -- minimum lambda value\n",
    "#           cost     -- type of cost function\n",
    "#                         =\"ener\"     : summation of energy er%\n",
    "#                         =\"aki\"      : summation of einstein coefficient er%\n",
    "#                         =\"ener+aki\" : summation of energy and einstein coefficient er%\n",
    "#           nener    -- number of states to be considered in minimization (if cost='ener' or 'ener+aki')\n",
    "#           ntran    -- number of transitions to be considered in minimization (if cost='aki' or 'ener+aki')\n",
    "#           initmap  -- type of initial sampling\n",
    "#                         =\"random\" : random sampling\n",
    "#                         =\"latin\"  : latin hypercube sampling\n",
    "#           iseed    -- sets the seed for random initial calculations\n",
    "#           gridtype -- grid type\n",
    "#                         =\"continuous\"\n",
    "#           mtype    -- model type\n",
    "#                         =\"GP\" : Gaussian Process\n",
    "#           aftype   -- acquisition function type\n",
    "#                         =\"EI\"     : Expected improvement\n",
    "#                         =\"MPI\"    : Maximum probability of improvement\n",
    "#                         =\"GP-UCB\" : Upper confidence bound\n",
    "#           afweight -- acquisition weight (float)\n",
    "#           mfunc    -- minimization function\n",
    "#                         =\"Er\"    : sum of weighted relative errros\n",
    "#                         =\"Er**2\" : sum of weighted square relative errors\n",
    "#           minst    -- states to be included in minimization\n",
    "#                         =\"gr+ex\" : ground and excited states\n",
    "#                         =\"ex\"    : only excited states\n",
    "#           wi       -- minimization weight\n",
    "#                         =\"eq\"  : all elements are weighted equally\n",
    "#                         =\"gi\"  : use statistical weight gi=sum 2j+1\n",
    "#                         =\"inp\" : read input values (below)\n",
    "#           weight   -- weight in relative errors (number of elements == nener)\n",
    "#\n",
    "#\n",
    "#  * input files:\n",
    "#           inpvar_gpyopt.yml       -- input file for .py\n",
    "#           das_XXCFG               -- autostructure input\n",
    "#           NIST_*.dat              -- observed data\n",
    "#                                       * cfgs: configurations\n",
    "#                                       * terms: energy terms\n",
    "#                                       * energies: binding and ionization energies\n",
    "#                                       * lines: transition lines\n",
    "#           f2py_autovarlambda.f90  -- subroutines for structure optimization\n",
    "#           SR.*.for                -- subroutines for structure optimization\n",
    "\n",
    "# Quietly compile autovarlamba.f90\n",
    "import os\n",
    "import sys\n",
    "# os.system('f2py -c -m autovarlambda f2py_autovarlambda.f90 SR.as_inp.for SR.nist_inp.for SR.compare_calc.for')\n",
    "# print('\\n===>>> autovarlambda compiled with f2py <<<===')\n",
    "\n",
    "# Import other stuff\n",
    "import numpy as np\n",
    "import autovarlambda\n",
    "import time\n",
    "import yaml\n",
    "import GPy\n",
    "import GPyOpt\n",
    "from numpy.random import seed\n",
    "\n",
    "import matplotlib.pyplot as plt\n",
    "import matplotlib.ticker as ticker\n",
    "from matplotlib import gridspec\n",
    "\n",
    "colors=['k','r','g','b','m','y','c','tab:blue',\n",
    "        'tab:orange','tab:green','tab:red','tab:purple','tab:brown','tab:pink','tab:gray']\n",
    "orb=['1s','2s','2p','3s','3p','3d','4s','4p','4d','4f','5s','5p','5d','5f','5g']\n",
    "symbs=['o','s','v','^','>','<','o','o','o','o','o','o','o','o','o']\n",
    "\n",
    "# Input parameters\n",
    "global gridtype, cfgs, maxevals, mtype, aftype, afweight, gridtype, igrid, initer, ipol\n",
    "global nlamvar, maxlam, minlam, mfunc, ifun, minst, imin, nener, wi, igi, iseed\n",
    "global ii, npolvar, initmap, cost, modpot, polpot, pseudo\n",
    "\n",
    "#########################################################################################################\n",
    "# Define functions\n",
    "#########################################################################################################\n",
    "def lamindex(idxlam):\n",
    "#    inmx=autovarlambda.lamidxbck.inmx\n",
    "    inmx=45 # check with NMX form fortran subroutine\n",
    "    vidxlam=np.zeros(inmx)\n",
    "    for i in range(len(idxlam)): vidxlam[i]=idxlam[i]\n",
    "    autovarlambda.lamidxbck.idxlam=vidxlam\n",
    "    return\n",
    "\n",
    "def data_input():\n",
    "    global gridtype, cfgs, maxevals, mtype, aftype, afweight, gridtype, igrid, initer\n",
    "    global ipol, nlamvar, idxlam, maxlam, minlam, mfunc, ifun, minst, imin, nener\n",
    "    global ntran, wi, igi, iseed, initmap, cost, modpot, polpot, pseudo\n",
    "    with open('inpvar_gpyopt.yml', 'r') as stream:\n",
    "        data_loaded=yaml.load(stream)\n",
    "    cfgs=data_loaded.get('cfgs')\n",
    "    initer=data_loaded.get('initer')\n",
    "    maxevals=data_loaded.get('maxevals')\n",
    "    modpot=data_loaded.get('modpot')\n",
    "    polpot=data_loaded.get('polpot')\n",
    "    pseudo=data_loaded.get('pseudo')\n",
    "    nlamvar=data_loaded.get('nlamvar')\n",
    "    idxlam=data_loaded.get('orbs')\n",
    "    lamindex(idxlam)\n",
    "    maxlam=data_loaded.get('maxlam')\n",
    "    minlam=data_loaded.get('minlam')\n",
    "    cost=data_loaded.get('cost')\n",
    "    nener=data_loaded.get('nener')\n",
    "    ntran=data_loaded.get('ntran')\n",
    "    initmap=data_loaded.get('initmap')\n",
    "    iseed=data_loaded.get('iseed')\n",
    "    gridtype=data_loaded.get('gridtype')\n",
    "    mtype=data_loaded.get('mtype')\n",
    "    aftype=data_loaded.get('aftype')\n",
    "    afweight=data_loaded.get('afweight')\n",
    "    mfunc=data_loaded.get('mfunc')\n",
    "    minst=data_loaded.get('minst')\n",
    "    wi=data_loaded.get('wi')\n",
    "\n",
    "    if cfgs is None: raise ValueError('Error: cfgs not defined.')\n",
    "    if initer is None: raise ValueError('Error: initer not defined.')\n",
    "    if maxevals is None: raise ValueError('Error: maxevals not defined.')\n",
    "    if mtype is None:\n",
    "        mtype='GP'\n",
    "        print('Warning: model type not defined. Use default: GP')\n",
    "#    if mtype!='GP': raise ValueError('Error: '+mtype+' not implemented.')\n",
    "    if aftype is None:\n",
    "        aftype='EI'\n",
    "        print('Warning: acquisition function type not defined. Use default: EI')\n",
    "    if aftype!='EI' and aftype!='MPI' and aftype!='GP-UCB': raise ValueError('Error: '+aftype+' not implemented.')\n",
    "    if afweight is None:\n",
    "        afweight=1.\n",
    "        print('Warning: acquisition function weight not defined. Use default: 1.')\n",
    "    if gridtype=='continuous':\n",
    "        igrid=0\n",
    "    elif gridtype is None:\n",
    "        igrid=0\n",
    "        print('Warning: grid type not defined. Use default: continuous')\n",
    "    else: raise ValueError('Error: '+gridtype+' not implemented.')\n",
    "    if nlamvar is None: raise ValueError('Error: nlamvar not defined.')\n",
    "    if len(idxlam) is None: raise ValueError('Error: orbs not defined.')\n",
    "    if maxlam is None or minlam is None: raise ValueError('Error: maxlam and/or minlam not defined.')\n",
    "    if mfunc=='Er':\n",
    "        ifun=0\n",
    "    elif mfunc=='Er**2':\n",
    "        ifun=1\n",
    "    elif mfunc is None:\n",
    "        imin=0\n",
    "        print('Warning: minimization function not defined. Use default: Er ')\n",
    "    else: raise ValueError('Error: '+mfunc+' not implemented.')\n",
    "    if minst=='gr+ex':\n",
    "        imin=0\n",
    "    elif minst=='ex':\n",
    "        imin=1\n",
    "    elif minst is None:\n",
    "        ifun=0\n",
    "        print('Warning: states to be minimized not defined. Use default: ground + excited')\n",
    "    else: raise ValueError('Error: '+minst+' not implemented.')\n",
    "    if nener is None: raise ValueError('Error: nener not defined.')\n",
    "    if wi=='eq' or wi=='gi':\n",
    "        if wi=='eq': igi=0\n",
    "        if wi=='gi': igi=1\n",
    "        weight=np.full(nener,1.)\n",
    "    elif wi=='inp':\n",
    "        inpweight=data_loaded.get('weight')\n",
    "        linpw=len(inpweight)\n",
    "        if linpw<nener: # fill the missing wi with the last input value\n",
    "            for i in range(linpw,nener):\n",
    "                inpweight.append(inpweight[linpw-1])\n",
    "        weight=np.array(listweight)\n",
    "        if inpweight is None or linpw==0:\n",
    "            raise ValueError('Error: weight not defined.')\n",
    "    elif wi is None:\n",
    "        igi=1\n",
    "        print('Warning: wi not defined. Use default: eq')\n",
    "    else: raise ValueError('Error: '+wi+'not implemented.')\n",
    "    if polpot==True:\n",
    "        ipol=1\n",
    "        autovarlambda.polbck.ipol=ipol\n",
    "    else: ipol=0\n",
    "    if iseed is None:\n",
    "        iseed=123456.\n",
    "        raise ValueError('Warning: iseed = 123456 ')\n",
    "    if initmap is None:\n",
    "        initmap='latin'\n",
    "        raise ValueError('Warning: initmap = latin')\n",
    "    if cost is None:\n",
    "        cost='ener'\n",
    "        raise ValueError('Warning: cost = ener')\n",
    "\n",
    "def print_input():\n",
    "    global gridtype, cfgs, maxevals, mtype, aftype, afweight, gridtype, igrid\n",
    "    global initer, ipol, nlamvar, idxlam, maxlam, minlam, mfunc, ifun, minst\n",
    "    global imin, nener, wi, igi, iseed, initmap, cost, modpot, pseudo\n",
    "    print('\\n===>>> Input parameters <<<===\\n')\n",
    "    print(' * initial evaluations: '+str(initer))\n",
    "    print(' * evaluations: '+str(maxevals))\n",
    "    print(' * number of orbitals varied: '+str(nlamvar))\n",
    "    print(' * orbitals: ',idxlam)\n",
    "    print(' * model type: '+mtype)\n",
    "    print(' * acquisition function type: '+aftype)\n",
    "    print(' * acquisition function weight: '+str(afweight))\n",
    "    print(' * grid type: '+gridtype)\n",
    "    if ifun==0: print(' * minimization function: sum of weighted relative errors')\n",
    "    if ifun==1: print(' * minimization function: sum of weighted square relative errors')\n",
    "    if imin==0: print(' * states included in minimization: ground + excited')\n",
    "    if imin==1: print(' * states included in minimization: excited')\n",
    "    print(' * weight type: '+wi)\n",
    "    if ipol==1: print(' * polarization: yes')\n",
    "    if ipol==0: print(' * polarization: no')\n",
    "    print(' * iseed: ',iseed)\n",
    "    print(' * initmap: ',initmap)\n",
    "    print(' * cost: ',cost)\n",
    "\n",
    "def atom_name(nzion):\n",
    "    nzion=abs(nzion)\n",
    "    atomname=['H','He','Li','Be','B','C','N','O','F','Ne','Na','Mg']\n",
    "    nname=len(atomname)\n",
    "    if nzion>nname: raise ValueError('atomname not defined for Z='+str(nzion))\n",
    "    for i in range(nname):\n",
    "        if nzion==i+1: chatom=atomname[i]\n",
    "    return chatom\n",
    "\n",
    "def pot_type(nzion):\n",
    "    if nzion < 0:\n",
    "        chtype='STO'\n",
    "    else:\n",
    "        chtype='TFDA'\n",
    "    return chtype\n",
    "\n",
    "def human_format(num):\n",
    "    magnitude=0\n",
    "    while abs(num) >= 1000:\n",
    "        magnitude += 1\n",
    "        num /= 1000\n",
    "    return '%.f%s' % (num, ['', 'K', 'M', 'G', 'T', 'P'][magnitude])\n",
    "\n",
    "def def_filename():\n",
    "    global ncfg, filename,initer\n",
    "    ncfg=autovarlambda.salgebbck.mxconf\n",
    "    nzion=autovarlambda.sminimbck.nzion\n",
    "    chatom=atom_name(nzion)\n",
    "    chtype=pot_type(nzion)\n",
    "    cfgs=str(ncfg)+'CFG'+chtype\n",
    "    idrun=str(initer)+mtype+human_format(maxevals)\n",
    "    filename=chatom+cfgs+'_'+idrun\n",
    "    return\n",
    "\n",
    "def open_fout():\n",
    "    global fener,fvals\n",
    "    fener=open(filename+'.out','w')\n",
    "    fvals=open(filename+'.res','w')\n",
    "    return\n",
    "\n",
    "def init_var():\n",
    "    enere=np.zeros(nener)\n",
    "    enerc=np.zeros(nener)\n",
    "    neex=int()\n",
    "    return enere, enerc, neex\n",
    "\n",
    "def check_errlog():\n",
    "    ierr=0\n",
    "    errlog=os.path.exists('errlog')\n",
    "    if errlog == True:\n",
    "        ierr=1\n",
    "        os.system('rm errlog')\n",
    "    autovarlambda.errlogbck.ierr=ierr\n",
    "    return\n",
    "\n",
    "def print_opt(total,myBopt):\n",
    "    global fmin,weight,fener,npolvar,initer,maxevals,filename,iseed,nlamvar,cost\n",
    "    var_best=myBopt.x_opt\n",
    "    fmin=myBopt.fx_opt\n",
    "    if fvar=='pol':\n",
    "        py_runAS_pol(var_best,npolvar)\n",
    "        xalpha='\\n'+17*' '+'alpha = '\n",
    "        xrho=19*' '+'rho = '\n",
    "        ii=0\n",
    "        for i in range(npolvar):\n",
    "            j=i+ii\n",
    "            xalpha=xalpha+'{vp['+str(j)+']:.{prec}f}'\n",
    "            xrho=xrho+'{vp['+str(j+1)+']:.{prec}f}'\n",
    "            if j<npolvar:\n",
    "                xalpha=xalpha+' , '\n",
    "                xrho=xrho+' , '\n",
    "            ii=ii+1\n",
    "    if fvar=='lam':\n",
    "        py_runAS_lam(var_best,nlamvar)\n",
    "        xlambda='\\n'+16*' '+'lambda = '\n",
    "        for i in range(nlamvar):\n",
    "            xlambda=xlambda+' {vp['+str(i)+']:.{prec}f} '\n",
    "    if fvar=='pseudo':\n",
    "        py_runAS_lam(var_best,nlamvar)\n",
    "        xlambda='\\n'+16*' '+'lambda = '\n",
    "        for i in range(nlamvar):\n",
    "            xlambda=xlambda+' {vp['+str(i)+']:.{prec}f} '\n",
    "        \n",
    "    if cost=='ener': loss_best,lerp_best,xp_best=loss_sumwE()\n",
    "    if cost=='aki': loss_best,lerp_best,xp_best=loss_sumaki()\n",
    "    if cost=='ener+aki':\n",
    "        lei,lerp_best,xp_best=loss_sumwE()\n",
    "        laki,lerp_best,xp_best=loss_sumaki()\n",
    "        loss_best=lei+laki\n",
    "    if cost=='psdiff': loss_best=loss_pseudo(0,var_best)\n",
    "        \n",
    "    print('\\n'+4*' '+'Initial iterations = {:5d}'.format(initer),file=fener)\n",
    "    print(' Number of evaluations = {:5d}'.format(maxevals),file=fener)\n",
    "    print(11*' '+'Random seed = {:8d}'.format(iseed),file=fener)\n",
    "    print(12*' '+'Total time = {:.{prec}f} min\\n'.format(total,prec=4),file=fener)\n",
    "    print('-'*80,file=fener)\n",
    "    print(' Best results:',file=fener)\n",
    "    print('-'*80,file=fener)\n",
    "    if fvar=='pol':\n",
    "        print(xalpha.format(vp=var_best,prec=4),file=fener)\n",
    "        print(xrho.format(vp=var_best,prec=4),file=fener)\n",
    "    if fvar=='lam':\n",
    "        print(xlambda.format(vp=var_best,prec=4),file=fener)\n",
    "    if loss_best!=fmin:\n",
    "        print(\"fx_opt = \",fmin,\"\\nloss_min = \",loss_best)\n",
    "        raise ValueError('Error: loss_best!=fmin ')\n",
    "    print('\\n'+12*' '+'total loss = {:12.4f} %'.format(loss_best),file=fener)\n",
    "    print(12*' '+'best loss = {:12.4f} %'.format(fmin),file=fener)\n",
    "    autovarlambda.print_ener()\n",
    "    autovarlambda.print_aki()\n",
    "    os.system('mv relat_error.dat '+filename+'.erp')\n",
    "    os.system('mv tmp '+filename+'.das')\n",
    "    fener.close()\n",
    "    return\n",
    "\n",
    "def clean_up():\n",
    "    os.system('rm das CONFIG.DAT oic ols olg TERMS LEVELS')\n",
    "    os.system('if [ -f \"adasex.in.form\" ]; then rm adas* adf* OMG*; fi')\n",
    "\n",
    "########################################################################\n",
    "#                             S P A C E S\n",
    "########################################################################\n",
    "\n",
    "def lamspace(minlam,maxlam):\n",
    "    space=[]\n",
    "    for i in range(nlamvar):\n",
    "        alam=str(i+1)\n",
    "#        space.append({'name': 'lam'+alam, 'type': gridtype, 'domain': (minlam,maxlam)})\n",
    "        space.append({'name': 'lam'+alam, 'type': gridtype, 'domain': (minlam[i],maxlam[i])})\n",
    "    return space\n",
    "\n",
    "def polspace(alpha_min,alpha_max,rho_min,rho_max,npolvar):\n",
    "    space=[]\n",
    "    for i in range(npolvar):\n",
    "        apol=str(i)\n",
    "        space.append({'name': 'alpha'+apol, 'type': 'continuous', 'domain': (alpha_min[i],alpha_max[i])})\n",
    "        space.append({'name': 'rho'+apol, 'type': 'continuous', 'domain': (rho_min[i],rho_max[i])})\n",
    "    return space\n",
    "\n",
    "########################################################################\n",
    "#                             K E R N E L S\n",
    "########################################################################\n",
    "\n",
    "def lamkernel(rbf,stdperiodic):\n",
    "    if rbf==1: kernel=GPy.kern.RBF(input_dim=nlamvar,variance=varf,lengthscale=lf,ARD=ARD)\n",
    "    if rbf==1 and stdperiodic==1:\n",
    "        kernel1=GPy.kern.RBF(input_dim=nlamvar,variance=varf,lengthscale=lf,ARD=ARD)\n",
    "        kernel2=GPy.kern.StdPeriodic(input_dim=nlamvar,variance=varf,period=None,lengthscale=None,ARD1=ARD,ARD2=ARD)\n",
    "        kernel=kernel1*kernel2\n",
    "    return kernel\n",
    "\n",
    "def polkernel(rbf,stdperiodic):\n",
    "    if rbf==1: kernel=GPy.kern.RBF(input_dim=2*npolvar,variance=varf,lengthscale=lf,ARD=ARD)\n",
    "    return kernel\n",
    "\n",
    "########################################################################\n",
    "#                       C O S T     F U N C T I O N S\n",
    "########################################################################\n",
    "\n",
    "def error_relat(valexact,valcomp,neex):\n",
    "    if valexact == 0.0 or valcomp == 0.0:\n",
    "        error=5./neex\n",
    "    else:\n",
    "        error=abs((valexact-valcomp)/valexact)*100\n",
    "    return error\n",
    "\n",
    "def loss_sumwE():\n",
    "    global imin,fvals\n",
    "    neex=autovarlambda.eei_ls.ne\n",
    "    enere=autovarlambda.eicompare.enere\n",
    "    enerc=autovarlambda.eicompare.enerc\n",
    "    loss=0.0\n",
    "    if igi==1: weight=autovarlambda.cei_ls.gic\n",
    "    if igi==0: weight=autovarlambda.cei_ls.gic*0+1.\n",
    "    lerp=[]\n",
    "    xp=' '\n",
    "    for i in range(imin,neex): # consider ground energy and/or-only excited states\n",
    "        erp=error_relat(enere[i],enerc[i],neex)\n",
    "        if ifun==1: erp=erp*erp\n",
    "        loss=loss + weight[i]*erp\n",
    "        lerp.append(erp)\n",
    "        xp=xp+'{erpE['+str(i)+']:.{prec}f} '\n",
    "    return loss,lerp,xp\n",
    "\n",
    "def loss_sumaki():\n",
    "    global imin,ntran,akinorm\n",
    "    ntrtot=autovarlambda.akicompare.ntrtot\n",
    "    if ntran>ntrtot: ntran=ntrtot\n",
    "    vakie=autovarlambda.akicompare.vakie\n",
    "    vakic=autovarlambda.akicompare.vakic\n",
    "    facc=autovarlambda.akicompare.vfacce\n",
    "    loss=0.0\n",
    "    lerp=[]\n",
    "    xp=' '\n",
    "    for i in range(imin,ntran): # consider a certain number of transitions\n",
    "        erp=error_relat(vakie[i],vakic[i],ntran)\n",
    "        if akinorm=='yes': erp=erp/facc[i]\n",
    "        if ifun==1: erp=erp*erp\n",
    "        loss=loss+erp\n",
    "        lerp.append(erp)\n",
    "        xp=xp+'{erpA['+str(i)+']:.{prec}f} '\n",
    "    return loss,lerp,xp\n",
    "\n",
    "def loss_total(ii,x):\n",
    "    global cost\n",
    "    lx=len(x)\n",
    "    xp='{:4d}: [ '\n",
    "    for i in range(lx):\n",
    "        xp=xp+'{vp['+str(i)+']:.{prec}f} '\n",
    "    xp=xp+'] // {l1:.{prec}f}'\n",
    "    if cost=='ener':\n",
    "        lei,lerp,xperp=loss_sumwE()\n",
    "        xperp=' {} '+xperp\n",
    "        loss=lei\n",
    "#        print(xp.format(ii,vp=x,l1=lei,prec=4),file=fener)\n",
    "        print(xp.format(ii,vp=x,l1=lei,prec=4))\n",
    "        print(xperp.format(loss,erpE=lerp,prec=4),file=fvals)\n",
    "    if cost=='aki':\n",
    "        laki,lerp,xperp=loss_sumaki()\n",
    "        xperp=' {} '+xperp\n",
    "        loss=laki\n",
    "#        print(xp.format(ii,vp=x,l1=lei,l2=laki,lt=loss,prec=4),file=fener)\n",
    "        print(xp.format(ii,vp=x,l1=laki,lt=loss,prec=4))\n",
    "        print(xperp.format(loss,erpA=lerp,prec=4),file=fvals)\n",
    "    if cost=='ener+aki':\n",
    "        lei,lerpE,xpE=loss_sumwE()\n",
    "        laki,lerpA,xpA=loss_sumaki()\n",
    "        xperp=' {} '+xpE+xpA\n",
    "        loss=lei+laki\n",
    "        xp=xp+' + {l2:.{prec}e} = {lt:.{prec}e}'\n",
    "#        print(xp.format(ii,vp=x,l1=lei,l2=laki,lt=loss,prec=4),file=fener)\n",
    "        print(xp.format(ii,vp=x,l1=lei,l2=laki,lt=loss,prec=4))\n",
    "        print(xperp.format(loss,erpE=lerpE,erpA=lerpA,prec=4),file=fvals)\n",
    "    return loss\n",
    "\n",
    "\n",
    "def plot_pseudo(cterms):\n",
    "    nbins=25\n",
    "    nrows=len(cterms)\n",
    "    sing_cterms=cterms.copy()\n",
    "    trip_cterms=cterms.copy()\n",
    "    for i in range(nrows):\n",
    "        if cterms.loc[i]['S']==1: trip_cterms.drop(i,axis=0,inplace=True)\n",
    "        if cterms.iloc[i]['S']==3: sing_cterms.drop(i,axis=0,inplace=True)\n",
    "    plt.hist(trip_cterms['ENERGY(RYD)'],bins=nbins,color='r')\n",
    "    plt.hist(sing_cterms['ENERGY(RYD)'],bins=nbins,color='g')\n",
    "    plt.axvline(x=eion,linestyle='dashed', color='tab:gray')\n",
    "    plt.show()\n",
    "\n",
    "def loss_pseudo(ii,x):\n",
    "    inips_cfg=7\n",
    "#     finps_cfg=8\n",
    "    eion=autovarlambda.eion.eion\n",
    "    cterms=pd.read_csv('TERMS',header='infer',sep='\\s+')\n",
    "    nrows=len(cterms)-1\n",
    "    cterms.drop(nrows,axis=0,inplace=True)\n",
    "    for i in range(nrows):\n",
    "        if cterms.loc[i]['CF']<inips_cfg: cterms.drop(i,axis=0,inplace=True)\n",
    "#         if cterms.loc[i]['CF']>finps_cfg: cterms.drop(i,axis=0,inplace=True)\n",
    "    cterms.reset_index(drop=True,inplace=True)\n",
    "    plot_pseudo(cterms)\n",
    "    nrows=len(cterms)\n",
    "    loss=0\n",
    "    for i in range(nrows):\n",
    "        eps=cterms.loc[i]['ENERGY(RYD)']\n",
    "        diff=abs(eps-eion)\n",
    "        loss=loss+diff\n",
    "    print(ii,x,loss)\n",
    "    return loss\n",
    "\n",
    "########################################################################\n",
    "#                           F U N C T I O N S\n",
    "########################################################################\n",
    "\n",
    "def py_runAS_lam(lam,nlamvar):\n",
    "    check_errlog()\n",
    "    autovarlambda.run_varlam(lam,nlamvar)\n",
    "    check_errlog()\n",
    "    autovarlambda.inp_comp()\n",
    "    autovarlambda.compare_ei()\n",
    "    autovarlambda.compare_aki()\n",
    "    return\n",
    "\n",
    "def py_runAS_pol(pol,npolvar):\n",
    "    check_errlog()\n",
    "    autovarlambda.run_varpol(pol,npolvar)\n",
    "    check_errlog()\n",
    "    autovarlambda.inp_comp()\n",
    "    autovarlambda.compare_ei()\n",
    "    autovarlambda.compare_aki()\n",
    "    return\n",
    "\n",
    "def var_lam(x):\n",
    "    global ii\n",
    "    ii=ii+1\n",
    "    lam=x[0,:]\n",
    "    py_runAS_lam(lam,nlamvar)\n",
    "    loss=loss_total(ii,lam)\n",
    "#    print(lam,loss)\n",
    "    return loss\n",
    "\n",
    "def var_pseudo(x):\n",
    "    global ii\n",
    "    ii=ii+1\n",
    "    lam=x[0,:]\n",
    "    py_runAS_lam(lam,nlamvar)\n",
    "#     loss=loss_total(ii,lam)\n",
    "    loss=loss_pseudo(ii,lam)\n",
    "    return loss\n",
    "\n",
    "def var_pol(x):\n",
    "    global ii,npolvar\n",
    "    pol=x[0,:]\n",
    "    ii=ii+1\n",
    "    py_runAS_pol(pol,npolvar)\n",
    "    loss=loss_total(ii,pol)\n",
    "    return loss\n",
    "\n",
    "def run_bo(iseed,space,kernel,function,initer,initmap,maxevals,varf,lf,noise_var,exact_feval,optimize_restarts,ARD,xi):\n",
    "    seed(iseed)\n",
    "    enere, enerc, neex=init_var()\n",
    "    cpdas='cp das_' + str(cfgs) + 'CFG das'\n",
    "    os.system(cpdas)\n",
    "    autovarlambda.open_files()\n",
    "    autovarlambda.inp_das()\n",
    "    autovarlambda.inp_obs()\n",
    "    dummyne=autovarlambda.eei_ls.ne.copy()\n",
    "    if nener != dummyne:\n",
    "        autovarlambda.eei_ls.ne=nener\n",
    "    def_filename()\n",
    "    if ncfg != cfgs:\n",
    "        print(' >>>> configuration mismatch !!!! ')\n",
    "        sys.exit()\n",
    "    open_fout()\n",
    "    t0=time.time()\n",
    "    global ii\n",
    "    ii=0\n",
    "    model=GPyOpt.models.GPModel(kernel=kernel,noise_var=noise_var,exact_feval=exact_feval,\n",
    "                                optimizer='lbfgs',max_iters=1500,optimize_restarts=optimize_restarts,\n",
    "                                verbose=False,ARD=ARD)\n",
    "    dspace=GPyOpt.Design_space(space=space)\n",
    "    objective=GPyOpt.core.task.SingleObjective(function)\n",
    "    initial_design=GPyOpt.experiment_design.initial_design(initmap,dspace,initer)\n",
    "    acquisition_optimizer=GPyOpt.optimization.AcquisitionOptimizer(dspace, optimizer='lbfgs')\n",
    "    acquisition=GPyOpt.acquisitions.AcquisitionEI(model,dspace,acquisition_optimizer,jitter=xi)\n",
    "    evaluator=GPyOpt.core.evaluators.Sequential(acquisition)\n",
    "    myBopt=GPyOpt.methods.ModularBayesianOptimization(model,dspace,objective,acquisition,\n",
    "                                                      evaluator,X_init=initial_design,normalize_Y=True,\n",
    "                                                      model_update_interval=1)\n",
    "    myBopt.run_optimization(maxevals,eps=1e-7,verbosity=False)\n",
    "    myBopt.save_evaluations(filename+'.dat')\n",
    "    t1=time.time()\n",
    "    total=(t1-t0)/60.\n",
    "    print_opt(total,myBopt)\n",
    "    return"
   ]
  },
  {
   "cell_type": "code",
   "execution_count": 355,
   "metadata": {
    "code_folding": [
     24,
     47
    ],
    "scrolled": false
   },
   "outputs": [
    {
     "name": "stdout",
     "output_type": "stream",
     "text": [
      "\n",
      "===>>> Optimize Pseudostates <<<===\n",
      "\n",
      "\n",
      " * cost =  psdiff\n"
     ]
    },
    {
     "data": {
      "image/png": "[encoded data removed]",
      "text/plain": [
       "<Figure size 432x288 with 1 Axes>"
      ]
     },
     "metadata": {
      "needs_background": "light"
     },
     "output_type": "display_data"
    },
    {
     "name": "stdout",
     "output_type": "stream",
     "text": [
      "1 [0.84 1.16 1.16 0.84 0.84 0.92 0.92 1.16 1.08] 15.152783400000002\n"
     ]
    },
    {
     "data": {
      "image/png": "[encoded data removed]",
      "text/plain": [
       "<Figure size 432x288 with 1 Axes>"
      ]
     },
     "metadata": {
      "needs_background": "light"
     },
     "output_type": "display_data"
    },
    {
     "name": "stdout",
     "output_type": "stream",
     "text": [
      "2 [0.92 0.92 1.   1.16 1.08 1.16 0.84 0.84 1.  ] 15.153546400000003\n"
     ]
    },
    {
     "data": {
      "image/png": "[encoded data removed]",
      "text/plain": [
       "<Figure size 432x288 with 1 Axes>"
      ]
     },
     "metadata": {
      "needs_background": "light"
     },
     "output_type": "display_data"
    },
    {
     "name": "stdout",
     "output_type": "stream",
     "text": [
      "3 [1.16 1.   1.08 1.   0.92 1.08 1.16 1.08 0.92] 15.146883399999997\n"
     ]
    },
    {
     "data": {
      "image/png": "[encoded data removed]",
      "text/plain": [
       "<Figure size 432x288 with 1 Axes>"
      ]
     },
     "metadata": {
      "needs_background": "light"
     },
     "output_type": "display_data"
    },
    {
     "name": "stdout",
     "output_type": "stream",
     "text": [
      "4 [1.   0.84 0.84 1.08 1.16 1.   1.   1.   0.84] 15.161126400000002\n"
     ]
    },
    {
     "data": {
      "image/png": "[encoded data removed]",
      "text/plain": [
       "<Figure size 432x288 with 1 Axes>"
      ]
     },
     "metadata": {
      "needs_background": "light"
     },
     "output_type": "display_data"
    },
    {
     "name": "stdout",
     "output_type": "stream",
     "text": [
      "5 [1.08 1.08 0.92 0.92 1.   0.84 1.08 0.92 1.16] 15.154984399999996\n"
     ]
    },
    {
     "data": {
      "image/png": "[encoded data removed]",
      "text/plain": [
       "<Figure size 432x288 with 1 Axes>"
      ]
     },
     "metadata": {
      "needs_background": "light"
     },
     "output_type": "display_data"
    },
    {
     "name": "stdout",
     "output_type": "stream",
     "text": [
      "6 [1.2        0.95610664 1.10979439 1.0001498  1.10419994 1.13738794\n",
      " 1.02104919 0.8093142  0.8031095 ] 15.147454399999999\n"
     ]
    },
    {
     "data": {
      "image/png": "[encoded data removed]",
      "text/plain": [
       "<Figure size 432x288 with 1 Axes>"
      ]
     },
     "metadata": {
      "needs_background": "light"
     },
     "output_type": "display_data"
    },
    {
     "name": "stdout",
     "output_type": "stream",
     "text": [
      "7 [1.2        0.8100539  1.0478679  1.14802793 0.87590169 1.16009516\n",
      " 1.04203285 1.10816026 0.85573912] 15.1609014\n"
     ]
    },
    {
     "data": {
      "image/png": "[encoded data removed]",
      "text/plain": [
       "<Figure size 432x288 with 1 Axes>"
      ]
     },
     "metadata": {
      "needs_background": "light"
     },
     "output_type": "display_data"
    },
    {
     "name": "stdout",
     "output_type": "stream",
     "text": [
      "8 [1.05831735 0.9789227  1.02232709 0.8        0.85247884 1.15072156\n",
      " 0.99373665 1.16365085 1.13905846] 15.148530399999997\n"
     ]
    },
    {
     "data": {
      "image/png": "[encoded data removed]",
      "text/plain": [
       "<Figure size 432x288 with 1 Axes>"
      ]
     },
     "metadata": {
      "needs_background": "light"
     },
     "output_type": "display_data"
    },
    {
     "name": "stdout",
     "output_type": "stream",
     "text": [
      "9 [1.03009977 0.98742808 1.00832739 1.09891741 0.91249075 0.99901848\n",
      " 1.07595879 1.05323035 0.8       ] 15.151032399999998\n"
     ]
    },
    {
     "data": {
      "image/png": "[encoded data removed]",
      "text/plain": [
       "<Figure size 432x288 with 1 Axes>"
      ]
     },
     "metadata": {
      "needs_background": "light"
     },
     "output_type": "display_data"
    },
    {
     "name": "stdout",
     "output_type": "stream",
     "text": [
      "10 [1.05219921 1.02422618 1.2        0.85771255 1.10745511 1.2\n",
      " 1.01635964 1.14214373 1.16403193] 15.144459399999999\n"
     ]
    },
    {
     "data": {
      "image/png": "[encoded data removed]",
      "text/plain": [
       "<Figure size 432x288 with 1 Axes>"
      ]
     },
     "metadata": {
      "needs_background": "light"
     },
     "output_type": "display_data"
    },
    {
     "name": "stdout",
     "output_type": "stream",
     "text": [
      "0 [1.05219921 1.02422618 1.2        0.85771255 1.10745511 1.2\n",
      " 1.01635964 1.14214373 1.16403193] 15.144459399999999\n"
     ]
    }
   ],
   "source": [
    "########################################################################\n",
    "#                        M A I N    P R O G R A M\n",
    "########################################################################\n",
    "\n",
    "# call input data\n",
    "data_input()\n",
    "# print_input()\n",
    "\n",
    "# other important variables\n",
    "noise_var=None\n",
    "exact_feval=True\n",
    "ARD=True\n",
    "varf=2.5\n",
    "lf=0.1\n",
    "xi=afweight # input\n",
    "optimize_restarts=5\n",
    "#minlam=[]\n",
    "#maxlam=[]\n",
    "\n",
    "################################\n",
    "#    POLARIZATION POTENTIAL    #\n",
    "################################\n",
    "if polpot==True:\n",
    "    print('\\n===>>> Optimize Polarization Potential <<<===\\n')\n",
    "    print('\\n * cost = ',cost)\n",
    "    # define values for the polarization parameters' space\n",
    "    alpha_max=[0.200,0.200,0.200]\n",
    "    alpha_min=[0.001,0.001,0.001]\n",
    "    rho_max=[1.500,1.500,1.500]\n",
    "    rho_min=[0.200,0.200,0.200]\n",
    "    npolvar=3\n",
    "    if npolvar != len(alpha_min):\n",
    "        print('npolvar .ne. alpha and rho dimension')\n",
    "\n",
    "    fvar='pol'\n",
    "    space=polspace(alpha_min,alpha_max,rho_min,rho_max,npolvar)\n",
    "    kernel=polkernel(rbf=1,stdperiodic=0)\n",
    "    run_bo(iseed,space,kernel,var_pol,initer,initmap,maxevals,varf,lf,noise_var,exact_feval,optimize_restarts,ARD,xi)\n",
    "    os.system('cp Be*.das das_6CFG')\n",
    "    os.system('if [ ! -d pol ]; then mkdir pol; fi')\n",
    "    os.system('mv Be* pol/.')\n",
    "\n",
    "#########################\n",
    "#    MODEL POTENTIAL    #\n",
    "#########################\n",
    "if modpot==True:\n",
    "    print('\\n===>>> Optimize Model Potential <<<===\\n')\n",
    "    print('\\n * cost = ',cost)\n",
    "    fvar='lam'\n",
    "    akinorm='yes'  # normalizar los errores relativos de Aki\n",
    "    space=lamspace(minlam,maxlam)\n",
    "    kernel=lamkernel(rbf=1,stdperiodic=0)\n",
    "    run_bo(iseed,space,kernel,var_lam,initer,initmap,maxevals,varf,lf,noise_var,exact_feval,optimize_restarts,ARD,xi)\n",
    "\n",
    "#########################\n",
    "#    PSEUDO ORBITALS    #\n",
    "#########################\n",
    "if pseudo==True:\n",
    "    print('\\n===>>> Optimize Pseudostates <<<===\\n')\n",
    "    cost='psdiff'  # minimiza la diferencia entre las pseudoenergias y la energía de ionización\n",
    "    print('\\n * cost = ',cost)\n",
    "    fvar='pseudo'\n",
    "    space=lamspace(minlam,maxlam)\n",
    "    kernel=lamkernel(rbf=1,stdperiodic=0)\n",
    "    run_bo(iseed,space,kernel,var_pseudo,initer,initmap,maxevals,varf,lf,noise_var,exact_feval,optimize_restarts,ARD,xi)\n",
    "\n",
    "\n",
    "# clean_up()"
   ]
  },
  {
   "cell_type": "code",
   "execution_count": null,
   "metadata": {},
   "outputs": [],
   "source": []
  },
  {
   "cell_type": "code",
   "execution_count": null,
   "metadata": {},
   "outputs": [],
   "source": []
  },
  {
   "cell_type": "code",
   "execution_count": null,
   "metadata": {},
   "outputs": [],
   "source": []
  },
  {
   "cell_type": "code",
   "execution_count": 314,
   "metadata": {},
   "outputs": [],
   "source": [
    "import pandas as pd\n",
    "from scipy.optimize import curve_fit\n",
    "from scipy import asarray as ar,exp"
   ]
  },
  {
   "cell_type": "code",
   "execution_count": 315,
   "metadata": {},
   "outputs": [],
   "source": [
    "eion=autovarlambda.eion.eion"
   ]
  },
  {
   "cell_type": "code",
   "execution_count": 357,
   "metadata": {},
   "outputs": [],
   "source": [
    "cterms=pd.read_csv('TERMS',header='infer',sep='\\s+')\n",
    "nrows=len(cterms)-1\n",
    "cterms.drop(nrows,axis=0,inplace=True)\n",
    "for i in range(nrows):\n",
    "    if cterms.loc[i]['CF']<ps_cfg: cterms.drop(i,axis=0,inplace=True)\n",
    "cterms.reset_index(drop=True,inplace=True)\n",
    "nrows=len(cterms)\n",
    "sing_cterms=cterms.copy()\n",
    "trip_cterms=cterms.copy()\n",
    "for i in range(nrows):\n",
    "    if cterms.loc[i]['S']==1: trip_cterms.drop(i,axis=0,inplace=True)\n",
    "    if cterms.iloc[i]['S']==3: sing_cterms.drop(i,axis=0,inplace=True)"
   ]
  },
  {
   "cell_type": "code",
   "execution_count": null,
   "metadata": {},
   "outputs": [],
   "source": []
  },
  {
   "cell_type": "code",
   "execution_count": 358,
   "metadata": {},
   "outputs": [
    {
     "data": {
      "image/png": "[encoded data removed]",
      "text/plain": [
       "<Figure size 432x288 with 1 Axes>"
      ]
     },
     "metadata": {
      "needs_background": "light"
     },
     "output_type": "display_data"
    }
   ],
   "source": [
    "nbins=15\n",
    "plt.axvline(x=eion,linestyle='dashed', color='tab:gray')\n",
    "trip_counts, trip_bins, trip_bars = plt.hist(trip_cterms['ENERGY(RYD)'],bins=nbins,color='r')\n",
    "# sing_counts, sing_bins, sing_bars = plt.hist(sing_cterms['ENERGY(RYD)'],bins=nbins,color='g')\n",
    "plt.show()"
   ]
  },
  {
   "cell_type": "code",
   "execution_count": 359,
   "metadata": {},
   "outputs": [],
   "source": [
    "def hist2scatt(bins):\n",
    "    nbins=len(bins)\n",
    "    dele=(bins[1]-bins[0])/2.\n",
    "    ctr=[]\n",
    "    for i in range(nbins-1):\n",
    "        ctr.append(bins[i]+dele)\n",
    "    return np.array(ctr)"
   ]
  },
  {
   "cell_type": "code",
   "execution_count": 360,
   "metadata": {},
   "outputs": [],
   "source": [
    "trip_ctr=hist2scatt(trip_bins)\n",
    "sing_ctr=hist2scatt(sing_bins)"
   ]
  },
  {
   "cell_type": "code",
   "execution_count": 361,
   "metadata": {},
   "outputs": [
    {
     "data": {
      "image/png": "[encoded data removed]",
      "text/plain": [
       "<Figure size 432x288 with 1 Axes>"
      ]
     },
     "metadata": {
      "needs_background": "light"
     },
     "output_type": "display_data"
    }
   ],
   "source": [
    "plt.axvline(x=eion,linestyle='dashed', color='tab:gray')\n",
    "plt.plot(trip_ctr,trip_counts,'ro')\n",
    "plt.plot(sing_ctr,sing_counts,'go')\n",
    "plt.show()"
   ]
  },
  {
   "cell_type": "code",
   "execution_count": 428,
   "metadata": {},
   "outputs": [
    {
     "data": {
      "text/plain": [
       "88"
      ]
     },
     "execution_count": 428,
     "metadata": {},
     "output_type": "execute_result"
    }
   ],
   "source": [
    "len(cterms)"
   ]
  },
  {
   "cell_type": "code",
   "execution_count": 427,
   "metadata": {
    "code_folding": [
     14,
     17
    ]
   },
   "outputs": [
    {
     "name": "stdout",
     "output_type": "stream",
     "text": [
      "2\n",
      "[1. 1. 1. 1. 1. 1.]\n",
      "3\n",
      "[1. 1. 1. 1. 1. 1. 1. 1. 1.]\n",
      "[2.85204044e+00 8.98341958e-01 1.64501903e-02 4.59652730e+00\n",
      " 6.58791964e-01 2.28734500e-02 1.29499025e+01 9.46335670e-01\n",
      " 1.17801964e-02]\n"
     ]
    },
    {
     "data": {
      "image/png": "[encoded data removed]",
      "text/plain": [
       "<Figure size 432x288 with 1 Axes>"
      ]
     },
     "metadata": {
      "needs_background": "light"
     },
     "output_type": "display_data"
    }
   ],
   "source": [
    "nbins=20\n",
    "sing_counts,sing_bins,sing_bars=plt.hist(sing_cterms['ENERGY(RYD)'],bins=nbins,color='g')\n",
    "sing_ctr=hist2scatt(sing_bins)\n",
    "x=sing_ctr\n",
    "y=sing_counts\n",
    "xp=np.linspace(0.4,1.1,100)\n",
    "\n",
    "def gauss(x,A,mu,sigma):\n",
    "    return A*np.exp(-(x-mu)**2/(2*sigma**2))\n",
    "\n",
    "def bimodal(x,A1,mu1,sigma1,A2,mu2,sigma2):\n",
    "    return gauss(x,A1,mu1,sigma1)+gauss(x,A2,mu2,sigma2)\n",
    "\n",
    "def mutigauss(x,*arg):\n",
    "    y=0\n",
    "    for i in range(ngauss):\n",
    "        ii=3*(i-1)\n",
    "        y=y+gauss(x,arg[ii],arg[ii+1],arg[ii+2])\n",
    "    return y\n",
    "\n",
    "global ngauss\n",
    "maxgauss=6\n",
    "for ngauss in range(2,maxgauss):\n",
    "    expected=np.zeros(3*ngauss)+1\n",
    "    print(ngauss)\n",
    "    print(expected)\n",
    "    try: \n",
    "        popt,pcov=curve_fit(mutigauss,x,y,p0=expected,maxfev=10000)\n",
    "        print(popt)\n",
    "        sing_counts,sing_bins,sing_bars=plt.hist(sing_cterms['ENERGY(RYD)'],bins=nbins,color='g')\n",
    "        plt.plot(x,y,'ro')\n",
    "        plt.plot(xp,mutigauss(xp,*popt),'k--')\n",
    "        for i in range(ngauss):\n",
    "            ii=3*(i-1)\n",
    "            plt.plot(xp,gauss(xp,popt[ii],popt[ii+1],popt[ii+2]),'r--')\n",
    "        plt.axvline(x=eion,linestyle='dashed', color='tab:gray')\n",
    "        plt.show()\n",
    "        break\n",
    "    except:\n",
    "        continue\n",
    "        if ngauss==maxgauss-1: print('increase maxgauss')"
   ]
  },
  {
   "cell_type": "code",
   "execution_count": null,
   "metadata": {
    "scrolled": false
   },
   "outputs": [],
   "source": []
  },
  {
   "cell_type": "code",
   "execution_count": null,
   "metadata": {},
   "outputs": [],
   "source": []
  },
  {
   "cell_type": "code",
   "execution_count": 298,
   "metadata": {},
   "outputs": [
    {
     "name": "stdout",
     "output_type": "stream",
     "text": [
      "[0.629839 0.673147 0.716455 0.759763 0.803071 0.846379 0.889687 0.932995\n",
      " 1.      ]\n",
      "[ 5.  9.  0.  0.  1.  3.  4. 22.  0.]\n",
      "[1, 0.65, 1.0, 1, 0.94, 1.0]\n",
      "[4.65340322e+01 6.53145429e-01 1.10340657e-02 2.21438565e+01\n",
      " 9.30431772e-01 2.20763257e-02]\n"
     ]
    },
    {
     "data": {
      "image/png": "[encoded data removed]",
      "text/plain": [
       "<Figure size 432x288 with 1 Axes>"
      ]
     },
     "metadata": {
      "needs_background": "light"
     },
     "output_type": "display_data"
    }
   ],
   "source": [
    "nbins=8\n",
    "trip_counts, trip_bins, trip_bars = plt.hist(trip_cterms['ENERGY(RYD)'],bins=nbins,color='g')\n",
    "trip_ctr=hist2scatt(trip_bins)\n",
    "\n",
    "trip_ctr=np.append(trip_ctr,[1.],axis=0)\n",
    "trip_counts=np.append(trip_counts,[0],axis=0)\n",
    "\n",
    "x=trip_ctr\n",
    "y=trip_counts\n",
    "n=len(x)\n",
    "mean1=0.65\n",
    "mean2=0.94\n",
    "sigma1=1.\n",
    "sigma2=1.\n",
    "A1=1\n",
    "A2=1\n",
    "\n",
    "def gauss(x,A,mu,sigma):\n",
    "    return A*np.exp(-(x-mu)**2/(2*sigma**2))\n",
    "\n",
    "def bimodal(x,A1,mu1,sigma1,A2,mu2,sigma2):\n",
    "    return gauss(x,A1,mu1,sigma1)+gauss(x,A2,mu2,sigma2)\n",
    "\n",
    "expected=[A1,mean1,sigma1,A2,mean2,sigma2]\n",
    "print(expected)\n",
    "popt,pcov=curve_fit(bimodal,x,y,p0=expected,maxfev=10000)\n",
    "print(popt)\n",
    "xp=np.linspace(0.6,1.,100)\n",
    "plt.plot(x,y,'ro')\n",
    "plt.plot(xp,bimodal(xp,*popt),'k--')\n",
    "plt.plot(xp,gauss(xp,popt[0],popt[1],popt[2]),'m--')\n",
    "plt.plot(xp,gauss(xp,popt[3],popt[4],popt[5]),'c--')\n",
    "plt.axvline(x=eion,linestyle='dashed', color='tab:gray')\n",
    "plt.show()"
   ]
  },
  {
   "cell_type": "code",
   "execution_count": null,
   "metadata": {},
   "outputs": [],
   "source": []
  }
 ],
 "metadata": {
  "kernelspec": {
   "display_name": "Python 3",
   "language": "python",
   "name": "python3"
  },
  "language_info": {
   "codemirror_mode": {
    "name": "ipython",
    "version": 3
   },
   "file_extension": ".py",
   "mimetype": "text/x-python",
   "name": "python",
   "nbconvert_exporter": "python",
   "pygments_lexer": "ipython3",
   "version": "3.7.3"
  }
 },
 "nbformat": 4,
 "nbformat_minor": 2
}
