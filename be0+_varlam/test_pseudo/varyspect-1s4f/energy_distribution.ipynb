{
 "cells": [
  {
   "cell_type": "code",
   "execution_count": 1,
   "metadata": {},
   "outputs": [],
   "source": [
    "import numpy as np\n",
    "import pandas as pd\n",
    "import matplotlib.pyplot as plt\n",
    "import scipy.constants as scc"
   ]
  },
  {
   "cell_type": "code",
   "execution_count": 2,
   "metadata": {},
   "outputs": [],
   "source": [
    "d_convRy2eV=scc.physical_constants['Rydberg constant times hc in eV']\n",
    "convRy2eV=d_convRy2eV[0]"
   ]
  },
  {
   "cell_type": "code",
   "execution_count": 50,
   "metadata": {},
   "outputs": [],
   "source": [
    "plt.rcParams['font.size'] = 19"
   ]
  },
  {
   "cell_type": "markdown",
   "metadata": {},
   "source": [
    "# Input NIST data"
   ]
  },
  {
   "cell_type": "code",
   "execution_count": 4,
   "metadata": {},
   "outputs": [],
   "source": [
    "fnist='/home/ale/autovarlambda/gpyopt_varlambda/be0+_varlam/'\n",
    "enerNIST=pd.read_csv(fnist+'NIST_terms.dat',header='infer',skiprows=[0,2],sep='\\s+')\n",
    "cfgsNIST=pd.read_csv(fnist+'NIST_cfgs.dat',header='infer',skiprows=[0,2],sep='\\s+')\n",
    "E_NIST=pd.read_csv(fnist+'NIST_energies.dat',header=None,skiprows=3,sep='\\s+')\n",
    "etot_NIST=E_NIST.loc[0][10]\n",
    "eion=E_NIST.loc[1][10]\n",
    "enerNIST.drop(columns='(Ry)',inplace=True)\n",
    "s=[]\n",
    "l=[]\n",
    "cf=[]\n",
    "nterms=len(enerNIST)\n",
    "ncfgs=len(cfgsNIST)\n",
    "for i in range(nterms):\n",
    "    cfdum=enerNIST.loc[i][0]\n",
    "    termdum=enerNIST.loc[i][1]\n",
    "    sdum=int(termdum[0])\n",
    "    ldum=termdum[1]\n",
    "    if ldum=='S': ldum=0\n",
    "    if ldum=='P': ldum=1\n",
    "    if ldum=='D': ldum=2\n",
    "    if ldum=='F': ldum=3\n",
    "    if ldum=='G': ldum=4\n",
    "    if ldum=='H': ldum=5\n",
    "    s.append(sdum)\n",
    "    l.append(ldum)\n",
    "    for j in range(ncfgs):\n",
    "        if cfgsNIST.loc[j]['CFG']==cfdum: cf.append(cfgsNIST.loc[j]['i'])\n",
    "enerNIST.insert(2, 'S', s)\n",
    "enerNIST.insert(3, 'L', l)\n",
    "enerNIST.insert(4, 'CF', cf)"
   ]
  },
  {
   "cell_type": "code",
   "execution_count": null,
   "metadata": {},
   "outputs": [],
   "source": []
  },
  {
   "cell_type": "code",
   "execution_count": null,
   "metadata": {},
   "outputs": [],
   "source": []
  },
  {
   "cell_type": "code",
   "execution_count": 5,
   "metadata": {},
   "outputs": [],
   "source": [
    "def load_ener(folder):\n",
    "    enert=pd.read_csv(folder+\"str/TERMS\",sep=\" \",delimiter=\"\\s+\",header=\"infer\")\n",
    "    nrow=len(enert)\n",
    "    idxtot=enert.index[nrow-1]\n",
    "    etot=enert.loc[idxtot]['ENERGY(RYD)']\n",
    "    enert.drop(idxtot,inplace=True)\n",
    "    return enert, etot"
   ]
  },
  {
   "cell_type": "code",
   "execution_count": 6,
   "metadata": {},
   "outputs": [],
   "source": [
    "def load_inpdata(folder):\n",
    "    data=pd.read_csv(folder+\"adas/sg.dat\",sep=\" \",delimiter=\"\\s+\",header=None,skiprows=[0,1])\n",
    "    enert, etot=load_ener(folder)\n",
    "#     enert['ENERGY(RYD)']=enert['ENERGY(RYD)']*convRy2eV\n",
    "    return data, enert, etot"
   ]
  },
  {
   "cell_type": "code",
   "execution_count": 7,
   "metadata": {},
   "outputs": [],
   "source": [
    "def match_NIST(ener,enerNIST):\n",
    "    nas=len(ener)\n",
    "    ncols=len(ener.columns)\n",
    "    nnist=len(enerNIST)\n",
    "    newnist=[0]*nas\n",
    "    idxnist=[0]*nas\n",
    "    for i in range(nas):\n",
    "        sas=ener.loc[i]['S']\n",
    "        las=ener.loc[i]['L']\n",
    "        cfas=ener.loc[i]['CF']\n",
    "        for j in range(nnist):\n",
    "            snist=enerNIST.loc[j]['S']\n",
    "            lnist=enerNIST.loc[j]['L']\n",
    "            cfnist=enerNIST.loc[j]['CF']\n",
    "            if (snist==sas) & (lnist==las) & (cfnist==cfas):\n",
    "                newnist[i]=enerNIST.loc[j]['Level']\n",
    "                idxnist[i]=j\n",
    "    ener.insert(ncols,'NIST',newnist)\n",
    "    ener.insert(ncols+1,'idx',idxnist)\n",
    "    nrows=len(ener)\n",
    "    nnist=len(enerNIST)\n",
    "    nistindex=enerNIST.index\n",
    "    dum=[]\n",
    "    for i in range(nrows):\n",
    "        idx=ener.iloc[i]['idx']\n",
    "        for j in nistindex:\n",
    "            if j==idx: \n",
    "                dum.append(enerNIST.loc[idx]['Configuration'][4:]+\" \"+enerNIST.loc[idx]['Term'])\n",
    "    ener['term']=dum\n",
    "    erpvals=[]\n",
    "    for i in range(nrows):\n",
    "        dum=-1.\n",
    "        nistvalue=ener.loc[i]['NIST']\n",
    "        if nistvalue!=0: dum=abs(nistvalue-ener.loc[i]['ENERGY(RYD)'])/nistvalue*100\n",
    "        erpvals.append(dum)\n",
    "    ener['erp']=erpvals\n",
    "    return "
   ]
  },
  {
   "cell_type": "code",
   "execution_count": 8,
   "metadata": {},
   "outputs": [],
   "source": [
    "def load_TERMS(folder):\n",
    "    enert=pd.read_csv(folder+\"TERMS\",sep=\" \",delimiter=\"\\s+\",header=\"infer\")\n",
    "    nrow=len(enert)\n",
    "    idxtot=enert.index[nrow-1]\n",
    "    etot=enert.loc[idxtot]['ENERGY(RYD)']\n",
    "    enert.drop(idxtot,inplace=True)\n",
    "    return enert"
   ]
  },
  {
   "cell_type": "code",
   "execution_count": null,
   "metadata": {},
   "outputs": [],
   "source": []
  },
  {
   "cell_type": "code",
   "execution_count": null,
   "metadata": {},
   "outputs": [],
   "source": []
  },
  {
   "cell_type": "code",
   "execution_count": null,
   "metadata": {},
   "outputs": [],
   "source": []
  },
  {
   "cell_type": "code",
   "execution_count": null,
   "metadata": {},
   "outputs": [],
   "source": []
  },
  {
   "cell_type": "code",
   "execution_count": null,
   "metadata": {},
   "outputs": [],
   "source": []
  },
  {
   "cell_type": "code",
   "execution_count": null,
   "metadata": {},
   "outputs": [],
   "source": []
  },
  {
   "cell_type": "code",
   "execution_count": null,
   "metadata": {},
   "outputs": [],
   "source": []
  },
  {
   "cell_type": "markdown",
   "metadata": {},
   "source": [
    "# Input: spectroscopic orbitals 1s-4f"
   ]
  },
  {
   "cell_type": "code",
   "execution_count": 9,
   "metadata": {},
   "outputs": [],
   "source": [
    "folder=\"/home/ale/icft_results/be0+/5l_15cfg/spect-1s4f/\"\n",
    "ener_sp1s4f, etot_sp1s4f=load_ener(folder)\n",
    "match_NIST(ener_sp1s4f,enerNIST)"
   ]
  },
  {
   "cell_type": "code",
   "execution_count": 10,
   "metadata": {},
   "outputs": [],
   "source": [
    "folder=\"/home/ale/icft_results/be0+/5l_15cfg/spect-1s4f_pseudo-5l/novar/\"\n",
    "ener_ps5l_nv, etot_ps5l_nv=load_ener(folder)\n",
    "match_NIST(ener_ps5l_nv,enerNIST)"
   ]
  },
  {
   "cell_type": "code",
   "execution_count": 11,
   "metadata": {},
   "outputs": [],
   "source": [
    "folder=\"STOabs_15cfg/\"\n",
    "ener_absSTO15cfg=load_TERMS(folder)\n",
    "match_NIST(ener_absSTO15cfg,enerNIST)\n",
    "folder=\"STOabs_17cfg/\"\n",
    "ener_absSTO17cfg=load_TERMS(folder)\n",
    "match_NIST(ener_absSTO17cfg,enerNIST)"
   ]
  },
  {
   "cell_type": "code",
   "execution_count": 12,
   "metadata": {},
   "outputs": [],
   "source": [
    "folder=\"STOrelat_15cfg/\"\n",
    "ener_relatSTO15cfg=load_TERMS(folder)\n",
    "match_NIST(ener_relatSTO15cfg,enerNIST)\n",
    "folder=\"STOrelat_17cfg/\"\n",
    "ener_relatSTO17cfg=load_TERMS(folder)\n",
    "match_NIST(ener_relatSTO17cfg,enerNIST)"
   ]
  },
  {
   "cell_type": "code",
   "execution_count": 17,
   "metadata": {},
   "outputs": [],
   "source": [
    "folder=\"TFDAabs_15cfg/\"\n",
    "ener_absTFDA15cfg=load_TERMS(folder)\n",
    "match_NIST(ener_absTFDA15cfg,enerNIST)\n",
    "folder=\"TFDAabs_17cfg/\"\n",
    "ener_absTFDA17cfg=load_TERMS(folder)\n",
    "match_NIST(ener_absTFDA17cfg,enerNIST)"
   ]
  },
  {
   "cell_type": "code",
   "execution_count": 18,
   "metadata": {},
   "outputs": [],
   "source": [
    "folder=\"TFDArelat_15cfg/\"\n",
    "ener_relatTFDA15cfg=load_TERMS(folder)\n",
    "match_NIST(ener_relatTFDA15cfg,enerNIST)\n",
    "folder=\"TFDArelat_17cfg/\"\n",
    "ener_relatTFDA17cfg=load_TERMS(folder)\n",
    "match_NIST(ener_relatTFDA17cfg,enerNIST)"
   ]
  },
  {
   "cell_type": "code",
   "execution_count": null,
   "metadata": {},
   "outputs": [],
   "source": []
  },
  {
   "cell_type": "code",
   "execution_count": 80,
   "metadata": {
    "hide_input": true
   },
   "outputs": [
    {
     "data": {
      "image/png": "[encoded data removed]",
      "text/plain": [
       "<Figure size 1152x1152 with 4 Axes>"
      ]
     },
     "metadata": {
      "needs_background": "light"
     },
     "output_type": "display_data"
    }
   ],
   "source": [
    "ymin=-0.5\n",
    "xmin=0.5\n",
    "xmax=21.5\n",
    "\n",
    "fig=plt.figure(figsize=(16,16))\n",
    "ax1=plt.subplot(221)\n",
    "ax1.set_title('STO - absolute')\n",
    "plt.plot(ener_absSTO15cfg.index,ener_absSTO15cfg['erp'],'o',label='15cfg')\n",
    "plt.plot(ener_absSTO17cfg.index,ener_absSTO17cfg['erp'],'o',label='17cfg')\n",
    "plt.legend(loc='best',fontsize=14)\n",
    "y0min,ymax=plt.ylim()\n",
    "plt.ylim(ymin,ymax)\n",
    "plt.xticks(ener_absSTO15cfg.index,ener_absSTO15cfg['term'], rotation=90,fontsize=15)\n",
    "plt.xlim(xmin,xmax)\n",
    "\n",
    "ax2=plt.subplot(222)\n",
    "ax2.set_title('STO - relative')\n",
    "plt.plot(ener_relatSTO15cfg.index,ener_relatSTO15cfg['erp'],'o',label='15cfg')\n",
    "plt.plot(ener_relatSTO17cfg.index,ener_relatSTO17cfg['erp'],'o',label='17cfg')\n",
    "plt.legend(loc='best',fontsize=14)\n",
    "ymin,ymax=plt.ylim()\n",
    "plt.ylim(-0.5,ymax)\n",
    "plt.xticks(ener_relatSTO15cfg.index,ener_relatSTO15cfg['term'], rotation=90,fontsize=15)\n",
    "plt.xlim(xmin,xmax)\n",
    "\n",
    "ax3=plt.subplot(223)\n",
    "ax3.set_title('TFDA - absolute')\n",
    "plt.plot(ener_absTFDA15cfg.index,ener_absTFDA15cfg['erp'],'o',label='15cfg')\n",
    "plt.plot(ener_absTFDA17cfg.index,ener_absTFDA17cfg['erp'],'o',label='17cfg')\n",
    "plt.legend(loc='best',fontsize=14)\n",
    "ymin,ymax=plt.ylim()\n",
    "plt.ylim(-0.5,ymax)\n",
    "plt.xticks(ener_absTFDA15cfg.index,ener_absTFDA15cfg['term'], rotation=90,fontsize=15)\n",
    "plt.xlim(xmin,xmax)\n",
    "\n",
    "ax4=plt.subplot(224)\n",
    "ax4.set_title('TFDA - relative')\n",
    "plt.plot(ener_relatTFDA15cfg.index,ener_relatTFDA15cfg['erp'],'o',label='15cfg')\n",
    "plt.plot(ener_relatTFDA17cfg.index,ener_relatTFDA17cfg['erp'],'o',label='17cfg')\n",
    "plt.legend(loc='best',fontsize=14)\n",
    "ymin,ymax=plt.ylim()\n",
    "plt.ylim(-0.5,ymax)\n",
    "plt.xticks(ener_relatTFDA15cfg.index,ener_relatTFDA15cfg['term'], rotation=90,fontsize=15)\n",
    "plt.xlim(xmin,xmax)\n",
    "\n",
    "plt.tight_layout(pad=2.0)\n",
    "plt.show()"
   ]
  },
  {
   "cell_type": "code",
   "execution_count": null,
   "metadata": {},
   "outputs": [],
   "source": []
  },
  {
   "cell_type": "code",
   "execution_count": null,
   "metadata": {},
   "outputs": [],
   "source": []
  },
  {
   "cell_type": "code",
   "execution_count": null,
   "metadata": {},
   "outputs": [],
   "source": []
  },
  {
   "cell_type": "code",
   "execution_count": null,
   "metadata": {},
   "outputs": [],
   "source": []
  },
  {
   "cell_type": "code",
   "execution_count": null,
   "metadata": {},
   "outputs": [],
   "source": []
  },
  {
   "cell_type": "code",
   "execution_count": 19,
   "metadata": {
    "hide_input": true
   },
   "outputs": [
    {
     "data": {
      "image/png": "[encoded data removed]",
      "text/plain": [
       "<Figure size 1382.4x691.2 with 2 Axes>"
      ]
     },
     "metadata": {
      "needs_background": "light"
     },
     "output_type": "display_data"
    }
   ],
   "source": [
    "my_xticks = ['NIST','1s-4f',r'1s-4f + $\\overline{5l}$','$E_{tot}^{STO}$','$E_{tot}^{TFDA}$']\n",
    "\n",
    "ys_nv=ener_ps5l_nv.loc[ener_ps5l_nv.loc[:]['CF']<10]['ENERGY(RYD)']\n",
    "xs_nv=ys_nv*0+2\n",
    "yp_nv=ener_ps5l_nv.loc[ener_ps5l_nv.loc[:]['CF']>=10]['ENERGY(RYD)']\n",
    "xp_nv=yp_nv*0+2\n",
    "ys_asbSTO15cfg=ener_absSTO15cfg.loc[ener_absSTO15cfg.loc[:]['CF']<10]['ENERGY(RYD)']\n",
    "xs_asbSTO15cfg=ys_asbSTO15cfg*0+3\n",
    "yp_asbSTO15cfg=ener_absSTO15cfg.loc[ener_absSTO15cfg.loc[:]['CF']>=10]['ENERGY(RYD)']\n",
    "xp_asbSTO15cfg=yp_asbSTO15cfg*0+3\n",
    "ys_asbTFDA15cfg=ener_absTFDA15cfg.loc[ener_absTFDA15cfg.loc[:]['CF']<10]['ENERGY(RYD)']\n",
    "xs_asbTFDA15cfg=ys_asbTFDA15cfg*0+4\n",
    "yp_asbTFDA15cfg=ener_absTFDA15cfg.loc[ener_absTFDA15cfg.loc[:]['CF']>=10]['ENERGY(RYD)']\n",
    "xp_asbTFDA15cfg=yp_asbTFDA15cfg*0+4\n",
    "\n",
    "xmin=-0.6\n",
    "xmax=4.5\n",
    "fig=plt.figure(figsize=(6.4*3,4.8*2))\n",
    "ax1=plt.subplot(121)\n",
    "ax1.set_title('Spectroscopic terms',fontsize=20,pad=10)\n",
    "plt.plot(enerNIST['Level']*0,enerNIST['Level'],'_',markersize=100,c='tab:gray')\n",
    "plt.plot(ener_sp1s4f['ENERGY(RYD)']*0+1,ener_sp1s4f['ENERGY(RYD)'],'_',markersize=100,c='tab:blue')\n",
    "plt.plot(xs_nv,ys_nv,'_',markersize=100,c='tab:orange')\n",
    "plt.plot(xs_asbSTO15cfg,ys_asbSTO15cfg,'_',markersize=100,c='tab:green')\n",
    "plt.plot(xs_asbTFDA15cfg,ys_asbTFDA15cfg,'_',markersize=100,c='tab:red')\n",
    "plt.hlines(eion,xmin,xmax,colors='tab:gray',linestyles='dashed')\n",
    "ymin, ymax = plt.ylim()\n",
    "ymax=1\n",
    "plt.xlim(xmin,xmax)\n",
    "plt.ylim(ymin,ymax)\n",
    "plt.xticks([0,1,2,3,4], my_xticks)\n",
    "ax2=plt.subplot(122)\n",
    "ax2.set_title('Pseudostates',fontsize=20,pad=10)\n",
    "plt.plot(xp_nv,yp_nv,'_',markersize=100,c='tab:orange')\n",
    "plt.plot(xp_asbSTO15cfg,yp_asbSTO15cfg,'_',markersize=100,c='tab:green')\n",
    "plt.plot(xp_asbTFDA15cfg,yp_asbTFDA15cfg,'_',markersize=100,c='tab:red')\n",
    "plt.hlines(eion,xmin,xmax,colors='tab:gray',linestyles='dashed')\n",
    "plt.xlim(xmin,xmax)\n",
    "plt.ylim(ymin,ymax)\n",
    "plt.xticks([0,1,2,3,4], my_xticks)\n",
    "plt.tight_layout()\n",
    "# plt.savefig('be0+_termenergies.eps')\n",
    "plt.show()"
   ]
  },
  {
   "cell_type": "code",
   "execution_count": 22,
   "metadata": {
    "hide_input": true
   },
   "outputs": [
    {
     "data": {
      "image/png": "[encoded data removed]",
      "text/plain": [
       "<Figure size 1382.4x691.2 with 2 Axes>"
      ]
     },
     "metadata": {
      "needs_background": "light"
     },
     "output_type": "display_data"
    }
   ],
   "source": [
    "my_xticks = ['NIST','1s-4f',r'1s-4f + $\\overline{5l}$','E$_i^{STO}$','E$_i^{TFDA}$']\n",
    "\n",
    "ys_nv=ener_ps5l_nv.loc[ener_ps5l_nv.loc[:]['CF']<10]['ENERGY(RYD)']\n",
    "xs_nv=ys_nv*0+2\n",
    "yp_nv=ener_ps5l_nv.loc[ener_ps5l_nv.loc[:]['CF']>=10]['ENERGY(RYD)']\n",
    "xp_nv=yp_nv*0+2\n",
    "ys_asbSTO15cfg=ener_relatSTO15cfg.loc[ener_relatSTO15cfg.loc[:]['CF']<10]['ENERGY(RYD)']\n",
    "xs_asbSTO15cfg=ys_asbSTO15cfg*0+3\n",
    "yp_asbSTO15cfg=ener_relatSTO15cfg.loc[ener_relatSTO15cfg.loc[:]['CF']>=10]['ENERGY(RYD)']\n",
    "xp_asbSTO15cfg=yp_asbSTO15cfg*0+3\n",
    "ys_asbTFDA15cfg=ener_relatTFDA15cfg.loc[ener_relatTFDA15cfg.loc[:]['CF']<10]['ENERGY(RYD)']\n",
    "xs_asbTFDA15cfg=ys_asbTFDA15cfg*0+4\n",
    "yp_asbTFDA15cfg=ener_relatTFDA15cfg.loc[ener_relatTFDA15cfg.loc[:]['CF']>=10]['ENERGY(RYD)']\n",
    "xp_asbTFDA15cfg=yp_asbTFDA15cfg*0+4\n",
    "\n",
    "xmin=-0.6\n",
    "xmax=4.5\n",
    "fig=plt.figure(figsize=(6.4*3,4.8*2))\n",
    "ax1=plt.subplot(121)\n",
    "ax1.set_title('Spectroscopic terms',fontsize=20,pad=10)\n",
    "plt.plot(enerNIST['Level']*0,enerNIST['Level'],'_',markersize=100,c='tab:gray')\n",
    "plt.plot(ener_sp1s4f['ENERGY(RYD)']*0+1,ener_sp1s4f['ENERGY(RYD)'],'_',markersize=100,c='tab:blue')\n",
    "plt.plot(xs_nv,ys_nv,'_',markersize=100,c='tab:orange')\n",
    "plt.plot(xs_asbSTO15cfg,ys_asbSTO15cfg,'_',markersize=100,c='tab:green')\n",
    "plt.plot(xs_asbTFDA15cfg,ys_asbTFDA15cfg,'_',markersize=100,c='tab:red')\n",
    "plt.hlines(eion,xmin,xmax,colors='tab:gray',linestyles='dashed')\n",
    "ymin, ymax = plt.ylim()\n",
    "ymax=1\n",
    "plt.xlim(xmin,xmax)\n",
    "plt.ylim(ymin,ymax)\n",
    "plt.xticks([0,1,2,3,4], my_xticks)\n",
    "ax2=plt.subplot(122)\n",
    "ax2.set_title('Pseudostates',fontsize=20,pad=10)\n",
    "plt.plot(xp_nv,yp_nv,'_',markersize=100,c='tab:orange')\n",
    "plt.plot(xp_asbSTO15cfg,yp_asbSTO15cfg,'_',markersize=100,c='tab:green')\n",
    "plt.plot(xp_asbTFDA15cfg,yp_asbTFDA15cfg,'_',markersize=100,c='tab:red')\n",
    "plt.hlines(eion,xmin,xmax,colors='tab:gray',linestyles='dashed')\n",
    "plt.xlim(xmin,xmax)\n",
    "plt.ylim(ymin,ymax)\n",
    "plt.xticks([0,1,2,3,4], my_xticks)\n",
    "plt.tight_layout()\n",
    "# plt.savefig('be0+_termenergies.eps')\n",
    "plt.show()"
   ]
  },
  {
   "cell_type": "code",
   "execution_count": null,
   "metadata": {
    "hide_input": false
   },
   "outputs": [],
   "source": []
  },
  {
   "cell_type": "code",
   "execution_count": null,
   "metadata": {},
   "outputs": [],
   "source": []
  },
  {
   "cell_type": "code",
   "execution_count": null,
   "metadata": {},
   "outputs": [],
   "source": []
  },
  {
   "cell_type": "code",
   "execution_count": null,
   "metadata": {},
   "outputs": [],
   "source": []
  },
  {
   "cell_type": "code",
   "execution_count": null,
   "metadata": {},
   "outputs": [],
   "source": []
  },
  {
   "cell_type": "code",
   "execution_count": null,
   "metadata": {},
   "outputs": [],
   "source": []
  },
  {
   "cell_type": "code",
   "execution_count": null,
   "metadata": {},
   "outputs": [],
   "source": []
  },
  {
   "cell_type": "code",
   "execution_count": null,
   "metadata": {},
   "outputs": [],
   "source": []
  },
  {
   "cell_type": "code",
   "execution_count": null,
   "metadata": {},
   "outputs": [],
   "source": []
  },
  {
   "cell_type": "code",
   "execution_count": null,
   "metadata": {},
   "outputs": [],
   "source": []
  },
  {
   "cell_type": "code",
   "execution_count": null,
   "metadata": {},
   "outputs": [],
   "source": []
  },
  {
   "cell_type": "code",
   "execution_count": null,
   "metadata": {},
   "outputs": [],
   "source": []
  },
  {
   "cell_type": "code",
   "execution_count": null,
   "metadata": {},
   "outputs": [],
   "source": []
  },
  {
   "cell_type": "code",
   "execution_count": 81,
   "metadata": {
    "hide_input": false
   },
   "outputs": [],
   "source": [
    "maxcfg=10\n",
    "nist=enerNIST.loc[enerNIST.loc[:]['CF']<maxcfg]['Level']\n",
    "x_nist=nist.index\n",
    "spect=ener_sp1s4f.loc[ener_sp1s4f.loc[:]['CF']<maxcfg]['ENERGY(RYD)']\n",
    "x_spect=ener_sp1s4f.loc[ener_sp1s4f.loc[:]['CF']<maxcfg]['idx']\n",
    "spect_nv=ener_ps5l_nv.loc[ener_ps5l_nv.loc[:]['CF']<maxcfg]['ENERGY(RYD)']\n",
    "xs_nv=ener_ps5l_nv.loc[ener_ps5l_nv.loc[:]['CF']<maxcfg]['idx']\n",
    "ys_absSTO15cfg=ener_absSTO15cfg.loc[ener_absSTO15cfg.loc[:]['CF']<maxcfg]['ENERGY(RYD)']\n",
    "xs_absSTO15cfg=ener_absSTO15cfg.loc[ener_absSTO15cfg.loc[:]['CF']<maxcfg]['idx']\n",
    "ys_absSTO17cfg=ener_absSTO17cfg.loc[ener_absSTO17cfg.loc[:]['CF']<maxcfg]['ENERGY(RYD)']\n",
    "xs_absSTO17cfg=ener_absSTO17cfg.loc[ener_absSTO17cfg.loc[:]['CF']<maxcfg]['idx']\n",
    "ys_relatSTO15cfg=ener_relatSTO15cfg.loc[ener_relatSTO15cfg.loc[:]['CF']<maxcfg]['ENERGY(RYD)']\n",
    "xs_relatSTO15cfg=ener_relatSTO15cfg.loc[ener_relatSTO15cfg.loc[:]['CF']<maxcfg]['idx']\n",
    "ys_relatSTO17cfg=ener_absSTO17cfg.loc[ener_absSTO17cfg.loc[:]['CF']<maxcfg]['ENERGY(RYD)']\n",
    "xs_relatSTO17cfg=ener_absSTO17cfg.loc[ener_absSTO17cfg.loc[:]['CF']<maxcfg]['idx']\n",
    "\n",
    "fig=plt.figure(figsize=(6.4*3,4.8*2))\n",
    "ax1=plt.subplot(111)\n",
    "ax1.set_title('Spectroscopic terms',fontsize=20,pad=10)\n",
    "plt.plot(x_nist,nist,'_',markersize=35,markeredgewidth=2,c='k')\n",
    "# plt.plot(ener_sp1s4f['idx'],ener_sp1s4f['ENERGY(RYD)'],'_',markersize=35,c='tab:blue')\n",
    "plt.plot(xs_nv,spect_nv,'_',markersize=35,c='tab:orange')\n",
    "# plt.plot(xs_absSTO15cfg,ys_absSTO15cfg,'_',markersize=35,c='tab:green')\n",
    "plt.plot(xs_relatSTO15cfg,ys_relatSTO15cfg,'_',markersize=35,c='tab:green')\n",
    "# plt.plot(xs_absSTO17cfg,ys_absSTO17cfg,'_',markersize=35,c='tab:cyan')\n",
    "plt.plot(xs_relatSTO17cfg,ys_relatSTO17cfg,'_',markersize=35,c='tab:cyan')\n",
    "xmin, xmax = plt.xlim()\n",
    "plt.hlines(eion,xmin,xmax,colors='tab:gray',linestyles='dashed')\n",
    "plt.xlim(xmin,xmax)\n",
    "plt.ylim(0.15,0.85)\n",
    "my_xticks = enerNIST.loc[:]['Term'].tolist()\n",
    "plt.xticks(x_nist, my_xticks)\n",
    "plt.show()"
   ]
  },
  {
   "cell_type": "code",
   "execution_count": null,
   "metadata": {},
   "outputs": [],
   "source": []
  },
  {
   "cell_type": "code",
   "execution_count": null,
   "metadata": {},
   "outputs": [],
   "source": []
  },
  {
   "cell_type": "code",
   "execution_count": null,
   "metadata": {},
   "outputs": [],
   "source": []
  },
  {
   "cell_type": "code",
   "execution_count": null,
   "metadata": {},
   "outputs": [],
   "source": []
  },
  {
   "cell_type": "code",
   "execution_count": null,
   "metadata": {},
   "outputs": [],
   "source": []
  },
  {
   "cell_type": "code",
   "execution_count": null,
   "metadata": {
    "hide_input": false
   },
   "outputs": [],
   "source": []
  },
  {
   "cell_type": "code",
   "execution_count": null,
   "metadata": {},
   "outputs": [],
   "source": []
  },
  {
   "cell_type": "code",
   "execution_count": null,
   "metadata": {},
   "outputs": [],
   "source": []
  },
  {
   "cell_type": "code",
   "execution_count": null,
   "metadata": {},
   "outputs": [],
   "source": []
  },
  {
   "cell_type": "code",
   "execution_count": null,
   "metadata": {},
   "outputs": [],
   "source": []
  },
  {
   "cell_type": "code",
   "execution_count": null,
   "metadata": {},
   "outputs": [],
   "source": []
  },
  {
   "cell_type": "code",
   "execution_count": null,
   "metadata": {},
   "outputs": [],
   "source": []
  },
  {
   "cell_type": "code",
   "execution_count": null,
   "metadata": {},
   "outputs": [],
   "source": []
  },
  {
   "cell_type": "code",
   "execution_count": null,
   "metadata": {},
   "outputs": [],
   "source": []
  },
  {
   "cell_type": "code",
   "execution_count": null,
   "metadata": {},
   "outputs": [],
   "source": []
  },
  {
   "cell_type": "code",
   "execution_count": null,
   "metadata": {},
   "outputs": [],
   "source": []
  },
  {
   "cell_type": "code",
   "execution_count": null,
   "metadata": {
    "hide_input": true
   },
   "outputs": [],
   "source": [
    "emin=0\n",
    "emax=1.75\n",
    "fig=plt.figure(figsize=(6.4*3,4.8))\n",
    "ax1=plt.subplot(131)\n",
    "ii=2\n",
    "ax1.set_title(r'$2s^2\\,^1S \\rightarrow 2s 2p\\,^3P$',fontsize=20,pad=10)\n",
    "plt.plot(dipti_data2[0]/convRy2eV,dipti_data2[1],'tab:gray',linewidth=3,label='Dipti')\n",
    "plt.plot(ps4l5l_nv[0],ps4l5l_nv[ii],'tab:orange',label='pseudo 4l5l')\n",
    "plt.plot(ps4l5l_gp[0],ps4l5l_gp[ii],'tab:green',label='GP pseudo 4l5l')\n",
    "plt.legend(loc='best')\n",
    "plt.axvline(eion,linestyle='dashed', color='tab:gray')\n",
    "plt.xlim(emin,emax)\n",
    "\n",
    "ax2=plt.subplot(132)\n",
    "ii=3\n",
    "ax2.set_title(r'$2s^2\\,^1S \\rightarrow 2s 2p\\,^1P$',fontsize=20,pad=10)\n",
    "plt.plot(dipti_data3[0]/convRy2eV,dipti_data3[1],'tab:gray',linewidth=3,label='Dipti')\n",
    "plt.plot(ps4l5l_nv[0],ps4l5l_nv[ii],'tab:orange',label='pseudo 4l5l')\n",
    "plt.plot(ps4l5l_gp[0],ps4l5l_gp[ii],'tab:green',label='GP pseudo 4l5l')\n",
    "plt.legend(loc='best')\n",
    "plt.axvline(eion,linestyle='dashed', color='tab:gray')\n",
    "plt.xlim(emin,emax)\n",
    "\n",
    "ax3=plt.subplot(133)\n",
    "ii=4\n",
    "ax3.set_title(r'$2s^2\\,^1S \\rightarrow 2s 3s\\,^3S$',fontsize=20,pad=10)\n",
    "plt.plot(dipti_data4[0]/convRy2eV,dipti_data4[1],'tab:gray',linewidth=3,label='Dipti')\n",
    "plt.plot(ps4l5l_nv[0],ps4l5l_nv[ii],'tab:orange',label='pseudo 4l5l')\n",
    "plt.plot(ps4l5l_gp[0],ps4l5l_gp[ii],'tab:green',label='GP pseudo 4l5l')\n",
    "plt.legend(loc='best')\n",
    "plt.axvline(eion,linestyle='dashed', color='tab:gray')\n",
    "plt.xlim(emin,emax)\n",
    "\n",
    "plt.show()"
   ]
  },
  {
   "cell_type": "code",
   "execution_count": null,
   "metadata": {
    "hide_input": true
   },
   "outputs": [],
   "source": [
    "spect_nv=ener_ps4l5l_nv.loc[ener_ps4l5l_nv.loc[:]['CF']<7]['ENERGY(RYD)']\n",
    "xs_nv=spect_nv*0+2\n",
    "pseudo_nv=ener_ps4l5l_nv.loc[ener_ps4l5l_nv.loc[:]['CF']>=7]['ENERGY(RYD)']\n",
    "xp_nv=pseudo_nv*0+2\n",
    "spect_gp=ener_ps4l5l_gp.loc[ener_ps4l5l_gp.loc[:]['CF']<7]['ENERGY(RYD)']\n",
    "xs_gp=spect_gp*0+3\n",
    "pseudo_gp=ener_ps4l5l_gp.loc[ener_ps4l5l_gp.loc[:]['CF']>=7]['ENERGY(RYD)']\n",
    "xp_gp=pseudo_gp*0+3\n",
    "\n",
    "\n",
    "xmin=-0.6\n",
    "xmax=3.4\n",
    "fig=plt.figure(figsize=(6.4*3,4.8*2))\n",
    "ax1=plt.subplot(121)\n",
    "ax1.set_title('Spectroscopic terms',fontsize=20,pad=10)\n",
    "plt.plot(enerNIST['Level']*0,enerNIST['Level'],'_',markersize=100,c='tab:gray')\n",
    "plt.plot(xs_nv,spect_nv,'_',markersize=100,c='tab:orange')\n",
    "plt.plot(xs_gp,spect_gp,'_',markersize=100,c='tab:green')\n",
    "plt.hlines(eion,xmin,xmax,colors='tab:gray',linestyles='dashed')\n",
    "plt.xlim(xmin,xmax)\n",
    "ax2=plt.subplot(122)\n",
    "ax2.set_title('Pseudostates',fontsize=20,pad=10)\n",
    "plt.plot(xp_nv,pseudo_nv,'_',markersize=100,c='tab:orange')\n",
    "plt.plot(xp_gp,pseudo_gp,'_',markersize=100,c='tab:green')\n",
    "plt.hlines(eion,xmin,xmax,colors='tab:gray',linestyles='dashed')\n",
    "plt.xlim(xmin,xmax)\n",
    "plt.tight_layout()\n",
    "plt.show()"
   ]
  },
  {
   "cell_type": "code",
   "execution_count": null,
   "metadata": {},
   "outputs": [],
   "source": []
  },
  {
   "cell_type": "code",
   "execution_count": null,
   "metadata": {},
   "outputs": [],
   "source": []
  },
  {
   "cell_type": "code",
   "execution_count": null,
   "metadata": {},
   "outputs": [],
   "source": []
  },
  {
   "cell_type": "code",
   "execution_count": null,
   "metadata": {},
   "outputs": [],
   "source": []
  },
  {
   "cell_type": "code",
   "execution_count": null,
   "metadata": {},
   "outputs": [],
   "source": []
  },
  {
   "cell_type": "code",
   "execution_count": null,
   "metadata": {},
   "outputs": [],
   "source": []
  },
  {
   "cell_type": "code",
   "execution_count": null,
   "metadata": {},
   "outputs": [],
   "source": []
  },
  {
   "cell_type": "code",
   "execution_count": null,
   "metadata": {
    "hide_input": false
   },
   "outputs": [],
   "source": []
  },
  {
   "cell_type": "code",
   "execution_count": null,
   "metadata": {
    "hide_input": false
   },
   "outputs": [],
   "source": []
  },
  {
   "cell_type": "code",
   "execution_count": null,
   "metadata": {
    "hide_input": false
   },
   "outputs": [],
   "source": []
  },
  {
   "cell_type": "code",
   "execution_count": null,
   "metadata": {
    "hide_input": false
   },
   "outputs": [],
   "source": []
  },
  {
   "cell_type": "code",
   "execution_count": null,
   "metadata": {
    "hide_input": false
   },
   "outputs": [],
   "source": []
  },
  {
   "cell_type": "code",
   "execution_count": null,
   "metadata": {
    "hide_input": false
   },
   "outputs": [],
   "source": []
  }
 ],
 "metadata": {
  "kernelspec": {
   "display_name": "Python 3",
   "language": "python",
   "name": "python3"
  },
  "language_info": {
   "codemirror_mode": {
    "name": "ipython",
    "version": 3
   },
   "file_extension": ".py",
   "mimetype": "text/x-python",
   "name": "python",
   "nbconvert_exporter": "python",
   "pygments_lexer": "ipython3",
   "version": "3.7.3"
  }
 },
 "nbformat": 4,
 "nbformat_minor": 2
}
