{
 "cells": [
  {
   "cell_type": "code",
   "execution_count": 3,
   "metadata": {},
   "outputs": [],
   "source": [
    "import numpy as np\n",
    "import matplotlib.pyplot as plt"
   ]
  },
  {
   "cell_type": "code",
   "execution_count": 2,
   "metadata": {},
   "outputs": [],
   "source": [
    "def Vpol(r,alpha,rcut,lpol):\n",
    "    vrcut=rcut[lpol]\n",
    "    return -alpha/r**4.*(1.-np.exp(-(r/vrcut)**6.))"
   ]
  },
  {
   "cell_type": "code",
   "execution_count": 25,
   "metadata": {},
   "outputs": [],
   "source": [
    "r=np.linspace(0.01,10,1000)"
   ]
  },
  {
   "cell_type": "code",
   "execution_count": 65,
   "metadata": {},
   "outputs": [],
   "source": [
    "alpha_norcross=0.05224\n",
    "rcut_norcross=[0.9006,0.8524,1.0240]"
   ]
  },
  {
   "cell_type": "code",
   "execution_count": 66,
   "metadata": {},
   "outputs": [
    {
     "data": {
      "image/png": "[encoded data removed]",
      "text/plain": [
       "<Figure size 432x288 with 1 Axes>"
      ]
     },
     "metadata": {
      "needs_background": "light"
     },
     "output_type": "display_data"
    }
   ],
   "source": [
    "plt.plot(r,Vpol(r,alpha_norcross,rcut_norcross,0),'k')\n",
    "plt.plot(r,Vpol(r,alpha_norcross,rcut_norcross,1),'r')\n",
    "plt.plot(r,Vpol(r,alpha_norcross,rcut_norcross,2),'g')\n",
    "plt.xscale('log')\n",
    "plt.show()"
   ]
  },
  {
   "cell_type": "code",
   "execution_count": 90,
   "metadata": {},
   "outputs": [],
   "source": [
    "from IPython.html.widgets import *\n",
    "from ipywidgets import *\n",
    "from IPython.display import display"
   ]
  },
  {
   "cell_type": "code",
   "execution_count": null,
   "metadata": {},
   "outputs": [],
   "source": []
  },
  {
   "cell_type": "code",
   "execution_count": 108,
   "metadata": {},
   "outputs": [],
   "source": [
    "def pltVpol0(alpha0,rcut0,alpha1,rcut1,alpha2,rcut2):\n",
    "    plt.ylim(-0.15,0)   # set the ylim to bottom, top\n",
    "    plt.plot(r,Vpol(r,alpha_norcross,rcut_norcross,0),'k')\n",
    "    plt.plot(r,Vpol(r,alpha_norcross,rcut_norcross,1),'r')\n",
    "    plt.plot(r,Vpol(r,alpha_norcross,rcut_norcross,2),'g')\n",
    "    plt.plot(r,-alpha0/r**4.*(1.-np.exp(-(r/rcut0)**6.)))\n",
    "    plt.plot(r,-alpha1/r**4.*(1.-np.exp(-(r/rcut1)**6.)))\n",
    "    plt.plot(r,-alpha2/r**4.*(1.-np.exp(-(r/rcut2)**6.)))\n",
    "    plt.show()"
   ]
  },
  {
   "cell_type": "code",
   "execution_count": 109,
   "metadata": {},
   "outputs": [
    {
     "data": {
      "application/vnd.jupyter.widget-view+json": {
       "model_id": "7a55b59fcd2f48e09062ec066c43a657",
       "version_major": 2,
       "version_minor": 0
      },
      "text/plain": [
       "interactive(children=(FloatSlider(value=0.001, description='alpha0', max=0.05, min=0.001, readout_format='.3f'…"
      ]
     },
     "metadata": {},
     "output_type": "display_data"
    },
    {
     "data": {
      "text/plain": [
       "<function __main__.pltVpol0(alpha0, rcut0, alpha1, rcut1, alpha2, rcut2)>"
      ]
     },
     "execution_count": 109,
     "metadata": {},
     "output_type": "execute_result"
    }
   ],
   "source": [
    "interact(pltVpol0,\n",
    "         alpha0=FloatSlider(min=0.001,max=0.05,step=0.0001,readout_format='.3f'),\n",
    "         alpha1=FloatSlider(min=0.001,max=0.05,step=0.0001,readout_format='.3f'),\n",
    "         alpha2=FloatSlider(min=0.001,max=0.05,step=0.0001,readout_format='.3f'),\n",
    "         rcut0=(0.3,1.1,0.01),\n",
    "         rcut1=(0.3,5.,0.01),\n",
    "         rcut2=(0.3,1.1,0.01))"
   ]
  },
  {
   "cell_type": "code",
   "execution_count": null,
   "metadata": {},
   "outputs": [],
   "source": []
  },
  {
   "cell_type": "code",
   "execution_count": null,
   "metadata": {},
   "outputs": [],
   "source": []
  }
 ],
 "metadata": {
  "kernelspec": {
   "display_name": "Python 3",
   "language": "python",
   "name": "python3"
  },
  "language_info": {
   "codemirror_mode": {
    "name": "ipython",
    "version": 3
   },
   "file_extension": ".py",
   "mimetype": "text/x-python",
   "name": "python",
   "nbconvert_exporter": "python",
   "pygments_lexer": "ipython3",
   "version": "3.7.3"
  }
 },
 "nbformat": 4,
 "nbformat_minor": 2
}
