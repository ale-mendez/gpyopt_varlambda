{
 "cells": [
  {
   "cell_type": "code",
   "execution_count": 1,
   "metadata": {},
   "outputs": [],
   "source": [
    "import os\n",
    "import sys\n",
    "import numpy as np\n",
    "import matplotlib.pyplot as plt\n",
    "import autovarlambda\n",
    "import time\n",
    "from hyperopt import hp, rand, tpe, Trials, fmin\n",
    "import pandas as pd\n",
    "import yaml"
   ]
  },
  {
   "cell_type": "code",
   "execution_count": 2,
   "metadata": {},
   "outputs": [],
   "source": [
    "import GPy\n",
    "import GPyOpt\n",
    "from numpy.random import seed"
   ]
  },
  {
   "cell_type": "code",
   "execution_count": 3,
   "metadata": {},
   "outputs": [],
   "source": []
  },
  {
   "cell_type": "code",
   "execution_count": 4,
   "metadata": {},
   "outputs": [],
   "source": [
    "with open(\"varlam_gpyopt.yml\", 'r') as stream:\n",
    "    data_loaded = yaml.load(stream)\n",
    "maxevals = data_loaded.get(\"maxevals\")\n",
    "eps_up = data_loaded.get(\"eps_up\")\n",
    "eps_down = data_loaded.get(\"eps_down\")\n",
    "eps=eps_down/2.0\n",
    "if eps_up > eps_down:\n",
    "    eps=eps_up/2.0\n",
    "nlamvar = data_loaded.get(\"nlamvar\")\n",
    "nener = data_loaded.get(\"nener\")\n",
    "NEMX = nener\n",
    "listweight = data_loaded.get(\"weight\")\n",
    "dummylen = len(listweight)\n",
    "if dummylen < NEMX:\n",
    "    print(\" ELEMENTS MISSING IN WEIGHT (.yaml). MUST BE == NENER\")\n",
    "    sys.exit()\n",
    "if dummylen > NEMX:\n",
    "    print(\" EXTRA ELEMENTS IN WEIGHT (.yaml). MUST BE == NENER\")\n",
    "    sys.exit()\n",
    "weight = np.array(listweight)\n",
    "cfgs = data_loaded.get(\"cfgs\")"
   ]
  },
  {
   "cell_type": "code",
   "execution_count": null,
   "metadata": {},
   "outputs": [],
   "source": []
  },
  {
   "cell_type": "code",
   "execution_count": 6,
   "metadata": {},
   "outputs": [],
   "source": [
    "# Define the bounds of the function\n",
    "bounds =[{'name': 'lam1', 'type': 'continuous', 'domain': (0.1,2)},\n",
    "         {'name': 'lam2', 'type': 'continuous', 'domain': (0.1,2)},\n",
    "         {'name': 'lam3', 'type': 'continuous', 'domain': (0.1,2)}]"
   ]
  },
  {
   "cell_type": "code",
   "execution_count": 46,
   "metadata": {},
   "outputs": [
    {
     "data": {
      "text/plain": [
       "list"
      ]
     },
     "execution_count": 46,
     "metadata": {},
     "output_type": "execute_result"
    }
   ],
   "source": [
    "type(bounds)"
   ]
  },
  {
   "cell_type": "code",
   "execution_count": 50,
   "metadata": {},
   "outputs": [],
   "source": [
    "bounds=[]\n",
    "igrid=0\n",
    "for i in range(NVMX):\n",
    "    alam=str(i+1)\n",
    "    if igrid==0:\n",
    "        bounds.append({'name': 'lam'+alam, 'type': 'continuous', 'domain': (lv[i]-eps_down,lv[i]+eps_up)})"
   ]
  },
  {
   "cell_type": "code",
   "execution_count": 51,
   "metadata": {},
   "outputs": [
    {
     "data": {
      "text/plain": [
       "[{'name': 'lam1', 'type': 'continuous', 'domain': (0.09999999999999998, 2.0)},\n",
       " {'name': 'lam2', 'type': 'continuous', 'domain': (0.09999999999999998, 2.0)},\n",
       " {'name': 'lam3', 'type': 'continuous', 'domain': (0.09999999999999998, 2.0)}]"
      ]
     },
     "execution_count": 51,
     "metadata": {},
     "output_type": "execute_result"
    }
   ],
   "source": [
    "bounds"
   ]
  },
  {
   "cell_type": "code",
   "execution_count": 7,
   "metadata": {},
   "outputs": [],
   "source": [
    "# Define useful functions\n",
    "def atom_name(nzion):\n",
    "    nzion=abs(nzion)\n",
    "    atomname=['0','H','He','Li','Be','B','C','N','O','F','Ne','Na','Mg']\n",
    "    for i in range(len(atomname)):\n",
    "         if nzion==i:\n",
    "              chatom = atomname[i]\n",
    "    return chatom\n",
    "def pot_type(nzion):\n",
    "    if nzion < 0:\n",
    "        chtype=\"STO\"\n",
    "    else:\n",
    "        chtype=\"TFDA\"\n",
    "    return chtype\n",
    "\n",
    "# Define function for writing iteration number in a human-readable-way\n",
    "def human_format(num):\n",
    "    magnitude = 0\n",
    "    while abs(num) >= 1000:\n",
    "        magnitude += 1\n",
    "        num /= 1000\n",
    "    return '%.f%s' % (num, ['', 'K', 'M', 'G', 'T', 'P'][magnitude])\n"
   ]
  },
  {
   "cell_type": "code",
   "execution_count": 28,
   "metadata": {},
   "outputs": [],
   "source": [
    "def error_relat(valexact,valcomp):\n",
    "    if valexact == 0.0 or valcomp == 0.0:\n",
    "        error=999\n",
    "    error = abs((valexact-valcomp)/valexact)\n",
    "    return error"
   ]
  },
  {
   "cell_type": "code",
   "execution_count": 29,
   "metadata": {},
   "outputs": [],
   "source": [
    "# Loss function defined as\n",
    "#     weighted sum of energies relative errors\n",
    "def loss_wsumE2(enere,enerc,neex,weight):\n",
    "    loss = 0.0\n",
    "    for i in range(neex):\n",
    "        diff = error_relat(enere[i],enerc[i])\n",
    "        loss = loss + weight[i]*diff**2\n",
    "    return loss"
   ]
  },
  {
   "cell_type": "code",
   "execution_count": 30,
   "metadata": {},
   "outputs": [],
   "source": [
    "# Define function to be minimized\n",
    "def var_lambda(x):\n",
    "    lam0 = x[0,:]\n",
    "    nlam0 = len(lam0)\n",
    "    autovarlambda.run_as(lam0,nlam0)\n",
    "    neex = autovarlambda.exactbck.ne\n",
    "    enere = autovarlambda.eneroutbck.enere\n",
    "    enerc = autovarlambda.eneroutbck.enerc\n",
    "    loss = loss_wsumE2(enere,enerc,neex,weight)\n",
    "    print(lam0,loss)\n",
    "    return loss"
   ]
  },
  {
   "cell_type": "code",
   "execution_count": 43,
   "metadata": {},
   "outputs": [],
   "source": [
    "# Determine file name string vector from fortran subroutine data\n",
    "def def_filename():\n",
    "    ncfg=autovarlambda.salgebbck.mxconf\n",
    "    nzion=autovarlambda.salgebbck.nzion\n",
    "    chatom=atom_name(nzion)\n",
    "    chtype=pot_type(nzion)\n",
    "    cfgs=str(ncfg)+\"CFG\"+chtype\n",
    "    filename=chatom+cfgs+\"_GP\"+human_format(maxevals)\n",
    "    return ncfg, filename\n",
    "\n",
    "# Open .out file\n",
    "def open_fout(filename,ncfg):\n",
    "    fener = open(filename+\".out\",\"w\")\n",
    "    return fener\n",
    "\n",
    "# Define and initialize variables\n",
    "def init_var(NVMX,NEMX):\n",
    "    lam0 = np.array(NVMX)\n",
    "    nlam0 = NVMX\n",
    "    enere = np.zeros(NEMX)\n",
    "    enerc = np.zeros(NEMX)\n",
    "    neex = int()\n",
    "    return lam0, nlam0, enere, enerc, neex"
   ]
  },
  {
   "cell_type": "code",
   "execution_count": 44,
   "metadata": {},
   "outputs": [],
   "source": [
    "def print_eresults():\n",
    "    lam_best = myBopt.x_opt\n",
    "    loss_best = var_lambda(lam_best.reshape(-1,3))\n",
    "    #print(\"x*= {} f(x*)= {}\".format(myBopt.x_opt,myBopt.fx_opt))\n",
    "    print(enere)\n",
    "    print(enerc)\n",
    "    erroregr = error_relat(enere[0],enerc[0])\n",
    "    print(\"\\n===>>> print results in .out <<<===\")\n",
    "    print(\"\\n Number of evaluations = {:10d}\".format(maxevals),file=fener)\n",
    "    print(\"                  Time = {:10.3f} minutes\".format(total),file=fener)\n",
    "    print(\"-\"*80,file=fener)\n",
    "    print(\" Best results:\",file=fener)\n",
    "    print(\"-\"*80,file=fener)\n",
    "    print(\"\\n  lambda = {} \".format(lam_best),file=fener)\n",
    "    print(\"\\n  Ground State Energy  = {:12.6f}\".format(enerc[0]),\n",
    "          \"\\n                  NIST = {:12.6f}\".format(enere[0]),\n",
    "          \"\\n                   Er% = {:12.4f} %\".format(erroregr),file=fener)\n",
    "    for i in range(1,neex):\n",
    "        errorex = error_relat(enere[i],enerc_best[i])\n",
    "        print(\"\\n       {} Excit. Energy = {:12.6f}\".format(i,enerc[i]),\n",
    "              \"\\n                  NIST = {:12.6f}\".format(enere[i]),\n",
    "              \"\\n                   Er% = {:12.6f} %\".format(errorex),file=fener)\n",
    "    print(\"\\n            Total loss = {:12.4f} %\".format(loss_best),file=fener)\n",
    "    fener.close()"
   ]
  },
  {
   "cell_type": "code",
   "execution_count": 45,
   "metadata": {},
   "outputs": [
    {
     "name": "stdout",
     "output_type": "stream",
     "text": [
      "\n",
      "===>>> RUN  32 CFGs <<<===\n",
      "\n",
      " ************ nener != neex          ************\n",
      " ************ forcing: neex == nener ************\n",
      "\n",
      "===>>> RUN GPyOpt <<<===\n",
      "[1.95905178 0.1185135  0.66163987] 1.6704713390159227\n",
      "[0.88238976 0.35053126 1.3497884 ] 1.8386206781259373\n",
      "[0.83508631 1.64145549 0.47302685] 0.07407908190370643\n",
      "[0.18169062 1.73232034 0.11588754] 197.20766508387436\n",
      "[0.98760596 1.55089963 0.64091576] 0.12388631757533262\n",
      "[1.41862596 0.255242   0.99510074] 4.848952217717212\n",
      "[1.23816203 1.83107284 0.36066885] 0.38586823689177185\n",
      "[1.58563735 0.74158234 0.41242116] 1.1610531566226672\n",
      "[2.         0.76270802 0.97006746] 0.12251598662911291\n",
      "[0.83508631 1.64145549 0.47302685] 0.07407908190370643\n",
      "\n",
      "===>>> print results in Be32CFGSTO_GP4.out <<<===\n"
     ]
    }
   ],
   "source": [
    "# Initialize variables\n",
    "lv = np.full(nlamvar, 1.)\n",
    "NVMX=len(lv)\n",
    "ntcfg = len(cfgs)\n",
    "lam0, nlam0, enere, enerc, neex = init_var(NVMX,NEMX)\n",
    "\n",
    "# Begin loop in \"configurations\"\n",
    "for i in range(ntcfg):\n",
    "    icfg = cfgs[i]\n",
    "    print(\"\\n===>>> RUN {:3d} CFGs <<<===\\n\".format(icfg))\n",
    "    cpdas = \"cp das_\" + str(icfg) + \"CFG das\"\n",
    "    os.system(cpdas)\n",
    "# Run initialization f2py subroutines\n",
    "    autovarlambda.open_files()\n",
    "    autovarlambda.inp_das()\n",
    "    autovarlambda.inp_exact()\n",
    "\n",
    "# if \"ne\" of exactvalues.dat is != than nener of .yaml\n",
    "#  => \"nener\" is considered and ne is dumped\n",
    "    dummyne = autovarlambda.exactbck.ne.copy()\n",
    "    if nener != dummyne:\n",
    "        print(\" ************ nener != neex          ************\")\n",
    "        print(\" ************ forcing: neex == nener ************\\n\")\n",
    "        autovarlambda.exactbck.ne = nener\n",
    "\n",
    "# Initialize files and necessary arrays\n",
    "    ncfg, filename = def_filename()\n",
    "    if ncfg != icfg:\n",
    "        print(\" >>>> configuration mismatch !!!! \")\n",
    "        sys.exit()\n",
    "    fener = open_fout(filename,ncfg)\n",
    "\n",
    "# Creates three identical objects that we will later use to compare the optimization strategies \n",
    "    print(\"===>>> RUN GPyOpt <<<===\")\n",
    "    t0 = time.time()\n",
    "    myBopt = GPyOpt.methods.BayesianOptimization(f=var_lambda,\n",
    "                                                 domain=bounds,\n",
    "                                                 model_type = 'GP',\n",
    "                                                 acquisition_type='EI',  \n",
    "                                                 normalize_Y = True,\n",
    "                                                 acquisition_weight = 20)\n",
    "# runs the optimization for the three methods\n",
    "    myBopt.run_optimization(maxevals,verbosity=False)\n",
    "    myBopt.save_evaluations(filename+\".dat\")\n",
    "    myBopt.save_models(\"model_\"+filename+\".dat\")\n",
    "    myBopt.save_report(\"report_\"+filename+\".dat\")\n",
    "    t1 = time.time()\n",
    "    total = (t1-t0)/60.\n",
    "\n",
    "# run autostructure for best lambda found\n",
    "    print_eresults()"
   ]
  },
  {
   "cell_type": "code",
   "execution_count": null,
   "metadata": {},
   "outputs": [],
   "source": [
    "os.system(\"rm CONFIG.DAT TERMS olg ols tmp das\")"
   ]
  },
  {
   "cell_type": "code",
   "execution_count": null,
   "metadata": {},
   "outputs": [],
   "source": []
  },
  {
   "cell_type": "code",
   "execution_count": null,
   "metadata": {},
   "outputs": [],
   "source": []
  }
 ],
 "metadata": {
  "kernelspec": {
   "display_name": "Python 3",
   "language": "python",
   "name": "python3"
  },
  "language_info": {
   "codemirror_mode": {
    "name": "ipython",
    "version": 3
   },
   "file_extension": ".py",
   "mimetype": "text/x-python",
   "name": "python",
   "nbconvert_exporter": "python",
   "pygments_lexer": "ipython3",
   "version": "3.7.3"
  }
 },
 "nbformat": 4,
 "nbformat_minor": 2
}
