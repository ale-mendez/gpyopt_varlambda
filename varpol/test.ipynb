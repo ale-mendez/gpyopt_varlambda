{
 "cells": [
  {
   "cell_type": "code",
   "execution_count": 1,
   "metadata": {},
   "outputs": [],
   "source": [
    "import os\n",
    "import sys\n",
    "import numpy as np\n",
    "import time\n",
    "import pandas as pd\n",
    "import yaml\n",
    "import GPy\n",
    "import GPyOpt\n",
    "from numpy.random import seed"
   ]
  },
  {
   "cell_type": "code",
   "execution_count": 12,
   "metadata": {
    "scrolled": false
   },
   "outputs": [
    {
     "name": "stdout",
     "output_type": "stream",
     "text": [
      "Help on class ModularBayesianOptimization in module GPyOpt.methods.modular_bayesian_optimization:\n",
      "\n",
      "class ModularBayesianOptimization(GPyOpt.core.bo.BO)\n",
      " |  ModularBayesianOptimization(model, space, objective, acquisition, evaluator, X_init, Y_init=None, cost=None, normalize_Y=True, model_update_interval=1, de_duplication=False)\n",
      " |  \n",
      " |  Modular Bayesian optimization. This class wraps the optimization loop around the different handlers.\n",
      " |  \n",
      " |  :param model: GPyOpt model class.\n",
      " |  :param space: GPyOpt space class.\n",
      " |  :param objective: GPyOpt objective class.\n",
      " |  :param acquisition: GPyOpt acquisition class.\n",
      " |  :param evaluator: GPyOpt evaluator class.\n",
      " |  :param X_init: 2d numpy array containing the initial inputs (one per row) of the model.\n",
      " |  :param Y_init: 2d numpy array containing the initial outputs (one per row) of the model.\n",
      " |  :param cost: GPyOpt cost class (default, none).\n",
      " |  :param normalize_Y: whether to normalize the outputs before performing any optimization (default, True).\n",
      " |  :param model_update_interval: interval of collected observations after which the model is updated (default, 1).\n",
      " |  :param de_duplication: instantiated de_duplication GPyOpt class.\n",
      " |  \n",
      " |  Method resolution order:\n",
      " |      ModularBayesianOptimization\n",
      " |      GPyOpt.core.bo.BO\n",
      " |      builtins.object\n",
      " |  \n",
      " |  Methods defined here:\n",
      " |  \n",
      " |  __init__(self, model, space, objective, acquisition, evaluator, X_init, Y_init=None, cost=None, normalize_Y=True, model_update_interval=1, de_duplication=False)\n",
      " |      Initialize self.  See help(type(self)) for accurate signature.\n",
      " |  \n",
      " |  ----------------------------------------------------------------------\n",
      " |  Methods inherited from GPyOpt.core.bo.BO:\n",
      " |  \n",
      " |  evaluate_objective(self)\n",
      " |      Evaluates the objective\n",
      " |  \n",
      " |  get_evaluations(self)\n",
      " |  \n",
      " |  plot_acquisition(self, filename=None)\n",
      " |      Plots the model and the acquisition function.\n",
      " |          if self.input_dim = 1: Plots data, mean and variance in one plot and the acquisition function in another plot\n",
      " |          if self.input_dim = 2: as before but it separates the mean and variance of the model in two different plots\n",
      " |      :param filename: name of the file where the plot is saved\n",
      " |  \n",
      " |  plot_convergence(self, filename=None)\n",
      " |      Makes twp plots to evaluate the convergence of the model:\n",
      " |          plot 1: Iterations vs. distance between consecutive selected x's\n",
      " |          plot 2: Iterations vs. the mean of the current model in the selected sample.\n",
      " |      :param filename: name of the file where the plot is saved\n",
      " |  \n",
      " |  run_optimization(self, max_iter=0, max_time=inf, eps=1e-08, context=None, verbosity=False, save_models_parameters=True, report_file=None, evaluations_file=None, models_file=None)\n",
      " |      Runs Bayesian Optimization for a number 'max_iter' of iterations (after the initial exploration data)\n",
      " |      \n",
      " |      :param max_iter: exploration horizon, or number of acquisitions. If nothing is provided optimizes the current acquisition.\n",
      " |      :param max_time: maximum exploration horizon in seconds.\n",
      " |      :param eps: minimum distance between two consecutive x's to keep running the model.\n",
      " |      :param context: fixes specified variables to a particular context (values) for the optimization run (default, None).\n",
      " |      :param verbosity: flag to print the optimization results after each iteration (default, False).\n",
      " |      :param report_file: file to which the results of the optimization are saved (default, None).\n",
      " |      :param evaluations_file: file to which the evalations are saved (default, None).\n",
      " |      :param models_file: file to which the model parameters are saved (default, None).\n",
      " |  \n",
      " |  save_evaluations(self, evaluations_file=None)\n",
      " |      Saves  evaluations at each iteration of the optimization\n",
      " |      \n",
      " |      :param evaluations_file: name of the file in which the results are saved.\n",
      " |  \n",
      " |  save_models(self, models_file)\n",
      " |      Saves model parameters at each iteration of the optimization\n",
      " |      \n",
      " |      :param models_file: name of the file or a file buffer, in which the results are saved.\n",
      " |  \n",
      " |  save_report(self, report_file=None)\n",
      " |      Saves a report with the main results of the optimization.\n",
      " |      \n",
      " |      :param report_file: name of the file in which the results of the optimization are saved.\n",
      " |  \n",
      " |  suggest_next_locations(self, context=None, pending_X=None, ignored_X=None)\n",
      " |      Run a single optimization step and return the next locations to evaluate the objective.\n",
      " |      Number of suggested locations equals to batch_size.\n",
      " |      \n",
      " |      :param context: fixes specified variables to a particular context (values) for the optimization run (default, None).\n",
      " |      :param pending_X: matrix of input configurations that are in a pending state (i.e., do not have an evaluation yet) (default, None).\n",
      " |      :param ignored_X: matrix of input configurations that the user black-lists, i.e., those configurations will not be suggested again (default, None).\n",
      " |  \n",
      " |  ----------------------------------------------------------------------\n",
      " |  Data descriptors inherited from GPyOpt.core.bo.BO:\n",
      " |  \n",
      " |  __dict__\n",
      " |      dictionary for instance variables (if defined)\n",
      " |  \n",
      " |  __weakref__\n",
      " |      list of weak references to the object (if defined)\n",
      "\n"
     ]
    }
   ],
   "source": [
    "help(GPyOpt.methods.ModularBayesianOptimization)"
   ]
  },
  {
   "cell_type": "code",
   "execution_count": null,
   "metadata": {},
   "outputs": [],
   "source": []
  },
  {
   "cell_type": "code",
   "execution_count": null,
   "metadata": {},
   "outputs": [],
   "source": []
  },
  {
   "cell_type": "code",
   "execution_count": null,
   "metadata": {
    "scrolled": false
   },
   "outputs": [],
   "source": []
  },
  {
   "cell_type": "code",
   "execution_count": null,
   "metadata": {},
   "outputs": [],
   "source": []
  },
  {
   "cell_type": "code",
   "execution_count": null,
   "metadata": {},
   "outputs": [],
   "source": []
  },
  {
   "cell_type": "code",
   "execution_count": null,
   "metadata": {},
   "outputs": [],
   "source": []
  },
  {
   "cell_type": "code",
   "execution_count": null,
   "metadata": {},
   "outputs": [],
   "source": []
  },
  {
   "cell_type": "code",
   "execution_count": null,
   "metadata": {},
   "outputs": [],
   "source": []
  }
 ],
 "metadata": {
  "kernelspec": {
   "display_name": "Python 3",
   "language": "python",
   "name": "python3"
  },
  "language_info": {
   "codemirror_mode": {
    "name": "ipython",
    "version": 3
   },
   "file_extension": ".py",
   "mimetype": "text/x-python",
   "name": "python",
   "nbconvert_exporter": "python",
   "pygments_lexer": "ipython3",
   "version": "3.7.1"
  }
 },
 "nbformat": 4,
 "nbformat_minor": 2
}
