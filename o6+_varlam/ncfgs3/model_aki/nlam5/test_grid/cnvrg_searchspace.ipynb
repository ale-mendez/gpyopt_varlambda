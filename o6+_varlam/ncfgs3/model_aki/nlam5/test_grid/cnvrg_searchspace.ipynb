{
 "cells": [
  {
   "cell_type": "code",
   "execution_count": 1,
   "metadata": {},
   "outputs": [],
   "source": [
    "import numpy as np"
   ]
  },
  {
   "cell_type": "code",
   "execution_count": 2,
   "metadata": {},
   "outputs": [],
   "source": [
    "orbs=['1s','2s','2p']"
   ]
  },
  {
   "cell_type": "code",
   "execution_count": 3,
   "metadata": {},
   "outputs": [],
   "source": [
    "# first search space:\n",
    "#\n",
    "# 1s=[0.1,2]\n",
    "# 2s=[0.1,2]\n",
    "# 2p=[0.1,2]\n",
    "#\n",
    "# Total loss results:\n",
    "#\n",
    "# space_1/O3CFGTFDA_10GP0.out:            total loss =      11.1242 %\n",
    "# space_1/O3CFGTFDA_10GP10.out:            total loss =       6.8992 %\n",
    "# space_1/O3CFGTFDA_10GP20.out:            total loss =       4.5037 %\n",
    "# space_1/O3CFGTFDA_20GP10.out:            total loss =       3.4249 % <<<< BEST\n",
    "# space_1/O3CFGTFDA_20GP20.out:            total loss =       3.4249 %\n",
    "# space_1/O3CFGTFDA_20GP30.out:            total loss =       3.4249 %\n",
    "# space_1/O3CFGTFDA_30GP20.out:            total loss =       5.3409 %\n",
    "# space_1/O3CFGTFDA_30GP30.out:            total loss =       4.7926 %\n",
    "# space_1/O3CFGTFDA_30GP40.out:            total loss =       4.7926 %\n",
    "# space_1/O3CFGTFDA_40GP30.out:            total loss =       3.7738 %\n",
    "# space_1/O3CFGTFDA_40GP40.out:            total loss =       3.7738 %\n",
    "# space_1/O3CFGTFDA_40GP50.out:            total loss =       3.7738 %\n",
    "# space_1/O3CFGTFDA_50GP40.out:            total loss =       3.5552 %\n",
    "# space_1/O3CFGTFDA_50GP50.out:            total loss =       3.5552 %\n",
    "# space_1/O3CFGTFDA_50GP60.out:            total loss =       3.5552 %\n",
    "#\n",
    "# Lambda parameters:\n",
    "#\n",
    "# space_1/O3CFGTFDA_10GP0.out:                lambda =  1.7150  0.9550  1.7150 \n",
    "# space_1/O3CFGTFDA_10GP10.out:                lambda =  1.1950  1.1176  0.1527 \n",
    "# space_1/O3CFGTFDA_10GP20.out:                lambda =  1.1963  1.0340  0.1000 \n",
    "# space_1/O3CFGTFDA_20GP10.out:                lambda =  1.2535  1.0121  0.6231  <<<< BEST\n",
    "# space_1/O3CFGTFDA_20GP20.out:                lambda =  1.2535  1.0121  0.6231 \n",
    "# space_1/O3CFGTFDA_20GP30.out:                lambda =  1.2535  1.0121  0.6231 \n",
    "# space_1/O3CFGTFDA_30GP20.out:                lambda =  1.1798  1.0770  0.5698 \n",
    "# space_1/O3CFGTFDA_30GP30.out:                lambda =  1.2096  1.0096  0.5667 \n",
    "# space_1/O3CFGTFDA_30GP40.out:                lambda =  1.2096  1.0096  0.5667 \n",
    "# space_1/O3CFGTFDA_40GP30.out:                lambda =  1.2369  1.0350  0.3172 \n",
    "# space_1/O3CFGTFDA_40GP40.out:                lambda =  1.2369  1.0350  0.3172 \n",
    "# space_1/O3CFGTFDA_40GP50.out:                lambda =  1.2369  1.0350  0.3172 \n",
    "# space_1/O3CFGTFDA_50GP40.out:                lambda =  1.5789  0.8227  2.0000 \n",
    "# space_1/O3CFGTFDA_50GP50.out:                lambda =  1.5789  0.8227  2.0000 \n",
    "# space_1/O3CFGTFDA_50GP60.out:                lambda =  1.5789  0.8227  2.0000 \n"
   ]
  },
  {
   "cell_type": "code",
   "execution_count": 53,
   "metadata": {},
   "outputs": [],
   "source": [
    "# minimum found in first search space (with initer=40 and maxevals=30)\n",
    "vspace1=np.array([1.2535,  1.0121,  0.6231]) # == total loss =  3.6222 %"
   ]
  },
  {
   "cell_type": "code",
   "execution_count": null,
   "metadata": {},
   "outputs": [],
   "source": []
  },
  {
   "cell_type": "code",
   "execution_count": 54,
   "metadata": {},
   "outputs": [
    {
     "name": "stdout",
     "output_type": "stream",
     "text": [
      "maxlam: \n",
      "  - 1.45 \n",
      "  - 1.21 \n",
      "  - 0.82 \n",
      "minlam: \n",
      "  - 1.05 \n",
      "  - 0.81 \n",
      "  - 0.42 \n"
     ]
    }
   ],
   "source": [
    "# second search space is defined within 40% of last minimum found\n",
    "eps=0.2\n",
    "print(\"maxlam: \")\n",
    "for i in vspace1:\n",
    "#     print(' - {:.1f} '.format(i*(1+eps)))\n",
    "    print('  - {:.2f} '.format(round(i+eps,2)))\n",
    "print(\"minlam: \")\n",
    "for i in vspace1:\n",
    "#     print(' - {:.1f} '.format(i*(1-eps)))\n",
    "    if i-eps>0.001: print('  - {:.2f} '.format(round(i-eps,2)))\n",
    "    if i-eps<0.001: print('  - {:.3f} '.format(0.001))"
   ]
  },
  {
   "cell_type": "code",
   "execution_count": null,
   "metadata": {},
   "outputs": [],
   "source": [
    "#\n",
    "# Total loss results:\n",
    "#\n",
    "# O3CFGTFDA_10GP0.out:            total loss =       4.6539 %\n",
    "# O3CFGTFDA_10GP10.out:            total loss =       3.2950 %\n",
    "# O3CFGTFDA_10GP20.out:            total loss =       3.2950 %\n",
    "# O3CFGTFDA_20GP10.out:            total loss =       3.6501 %\n",
    "# O3CFGTFDA_20GP20.out:            total loss =       3.6501 %\n",
    "# O3CFGTFDA_20GP30.out:            total loss =       3.3383 %\n",
    "# O3CFGTFDA_30GP20.out:            total loss =       3.4600 %\n",
    "# O3CFGTFDA_30GP30.out:            total loss =       3.4600 %\n",
    "# O3CFGTFDA_30GP40.out:            total loss =       3.4600 %\n",
    "# O3CFGTFDA_40GP30.out:            total loss =       3.2905 % >>> BEST\n",
    "# O3CFGTFDA_40GP40.out:            total loss =       3.2905 %\n",
    "# O3CFGTFDA_40GP50.out:            total loss =       3.2905 %\n",
    "# O3CFGTFDA_50GP40.out:            total loss =       3.3000 %\n",
    "# O3CFGTFDA_50GP50.out:            total loss =       3.3000 %\n",
    "# O3CFGTFDA_50GP60.out:            total loss =       3.3000 %\n",
    "#\n",
    "# Lambda parameters:\n",
    "#\n",
    "# O3CFGTFDA_10GP0.out:                lambda =  1.2200  1.0600  0.0395 \n",
    "# O3CFGTFDA_10GP10.out:                lambda =  1.2371  1.0235  0.0628 \n",
    "# O3CFGTFDA_10GP20.out:                lambda =  1.2371  1.0235  0.0628 \n",
    "# O3CFGTFDA_20GP10.out:                lambda =  1.2350  1.0214  0.5050 \n",
    "# O3CFGTFDA_20GP20.out:                lambda =  1.2350  1.0214  0.5050 \n",
    "# O3CFGTFDA_20GP30.out:                lambda =  1.2477  1.0155  0.5220 \n",
    "# O3CFGTFDA_30GP20.out:                lambda =  1.2282  1.0301  0.0100 \n",
    "# O3CFGTFDA_30GP30.out:                lambda =  1.2282  1.0301  0.0100 \n",
    "# O3CFGTFDA_30GP40.out:                lambda =  1.2282  1.0301  0.0100 \n",
    "# O3CFGTFDA_40GP30.out:                lambda =  1.2355  1.0258  0.2190  >>> BEST\n",
    "# O3CFGTFDA_40GP40.out:                lambda =  1.2355  1.0258  0.2190 \n",
    "# O3CFGTFDA_40GP50.out:                lambda =  1.2355  1.0258  0.2190 \n",
    "# O3CFGTFDA_50GP40.out:                lambda =  1.2341  1.0271  0.0100 \n",
    "# O3CFGTFDA_50GP50.out:                lambda =  1.2341  1.0271  0.0100 \n",
    "# O3CFGTFDA_50GP60.out:                lambda =  1.2341  1.0271  0.0100 \n"
   ]
  },
  {
   "cell_type": "code",
   "execution_count": 15,
   "metadata": {},
   "outputs": [],
   "source": [
    "# minimum found in second search space (with initer=40 and maxevals=30)\n",
    "vspace2=np.array([1.2355,  1.0258,  0.2190]) # == total loss = 3.2905 %"
   ]
  },
  {
   "cell_type": "code",
   "execution_count": 29,
   "metadata": {},
   "outputs": [
    {
     "name": "stdout",
     "output_type": "stream",
     "text": [
      "maxlam: \n",
      "  - 1.36 \n",
      "  - 1.13 \n",
      "  - 0.24 \n",
      "minlam: \n",
      "  - 1.11 \n",
      "  - 0.92 \n",
      "  - 0.20 \n"
     ]
    }
   ],
   "source": [
    "# third search space is defined within 30% of last minimum found\n",
    "eps=0.1\n",
    "print(\"maxlam: \")\n",
    "for i in vspace2:\n",
    "    print('  - {:.2f} '.format(round(i*(1+eps),2)))\n",
    "print(\"minlam: \")\n",
    "for i in vspace2:\n",
    "    print('  - {:.2f} '.format(round(i*(1-eps),2)))"
   ]
  },
  {
   "cell_type": "code",
   "execution_count": null,
   "metadata": {},
   "outputs": [],
   "source": []
  },
  {
   "cell_type": "code",
   "execution_count": null,
   "metadata": {},
   "outputs": [],
   "source": [
    "# minimum found in second search space (with initer=40 and maxevals=30)\n",
    "vspace3=np.array([])"
   ]
  }
 ],
 "metadata": {
  "kernelspec": {
   "display_name": "Python 3",
   "language": "python",
   "name": "python3"
  },
  "language_info": {
   "codemirror_mode": {
    "name": "ipython",
    "version": 3
   },
   "file_extension": ".py",
   "mimetype": "text/x-python",
   "name": "python",
   "nbconvert_exporter": "python",
   "pygments_lexer": "ipython3",
   "version": "3.7.4"
  }
 },
 "nbformat": 4,
 "nbformat_minor": 2
}
