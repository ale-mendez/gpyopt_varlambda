{
 "cells": [
  {
   "cell_type": "code",
   "execution_count": 4,
   "metadata": {},
   "outputs": [],
   "source": [
    "import numpy as np"
   ]
  },
  {
   "cell_type": "code",
   "execution_count": 21,
   "metadata": {},
   "outputs": [],
   "source": [
    "orbs=['1s','2s','2p','3s','3p']"
   ]
  },
  {
   "cell_type": "code",
   "execution_count": 20,
   "metadata": {},
   "outputs": [],
   "source": [
    "# first search space:\n",
    "#\n",
    "# 1s=[0.5,1.5]\n",
    "# 2s=[0.5,1.5]\n",
    "# 2p=[0.5,1.5]\n",
    "# 3s=[0.5,1.5]\n",
    "# 3p=[0.5,1.5]\n",
    "# 3d=[0.5,1.5]\n",
    "#"
   ]
  },
  {
   "cell_type": "code",
   "execution_count": 5,
   "metadata": {},
   "outputs": [],
   "source": [
    "# minimum found in first search space (with initer=40 and maxevals=30)\n",
    "vspace1=np.array([1.2429,  0.9629,  0.8885,  0.9077,  0.7425]) # == total loss = 7.4326 %"
   ]
  },
  {
   "cell_type": "code",
   "execution_count": null,
   "metadata": {},
   "outputs": [],
   "source": []
  },
  {
   "cell_type": "code",
   "execution_count": 26,
   "metadata": {},
   "outputs": [
    {
     "name": "stdout",
     "output_type": "stream",
     "text": [
      "maxlam: \n",
      " - 1.6 \n",
      " - 1.3 \n",
      " - 1.2 \n",
      " - 1.2 \n",
      " - 1.0 \n",
      "minlam: \n",
      " - 0.9 \n",
      " - 0.7 \n",
      " - 0.6 \n",
      " - 0.6 \n",
      " - 0.5 \n"
     ]
    }
   ],
   "source": [
    "# second search space is defined within 30% of last minimum found\n",
    "print(\"maxlam: \")\n",
    "for i in vspace1:\n",
    "    print(' - {:.1f} '.format(i*1.3))\n",
    "print(\"minlam: \")\n",
    "for i in vspace1:\n",
    "    print(' - {:.1f} '.format(i*0.7))"
   ]
  },
  {
   "cell_type": "code",
   "execution_count": 17,
   "metadata": {},
   "outputs": [],
   "source": [
    "# minimum found in second search space (with initer=50 and maxevals=40)\n",
    "vspace2=np.array([1.2016,  1.0121,  0.8520,  0.9591,  0.6256]) # == total loss = 5.5237 %"
   ]
  },
  {
   "cell_type": "code",
   "execution_count": null,
   "metadata": {},
   "outputs": [],
   "source": []
  },
  {
   "cell_type": "code",
   "execution_count": 27,
   "metadata": {},
   "outputs": [
    {
     "name": "stdout",
     "output_type": "stream",
     "text": [
      "maxlam: \n",
      " - 1.6 \n",
      " - 1.3 \n",
      " - 1.1 \n",
      " - 1.2 \n",
      " - 0.8 \n",
      "minlam: \n",
      " - 0.8 \n",
      " - 0.7 \n",
      " - 0.6 \n",
      " - 0.7 \n",
      " - 0.4 \n"
     ]
    }
   ],
   "source": [
    "# third search space is defined within 30% of last minimum found\n",
    "print(\"maxlam: \")\n",
    "for i in vspace2:\n",
    "    print(' - {:.1f} '.format(i*1.3))\n",
    "print(\"minlam: \")\n",
    "for i in vspace2:\n",
    "    print(' - {:.1f} '.format(i*0.7))"
   ]
  },
  {
   "cell_type": "code",
   "execution_count": null,
   "metadata": {},
   "outputs": [],
   "source": []
  },
  {
   "cell_type": "code",
   "execution_count": null,
   "metadata": {},
   "outputs": [],
   "source": [
    "# minimum found in second search space (with initer= and maxevals=)\n",
    "vspace3=np.array([])"
   ]
  }
 ],
 "metadata": {
  "kernelspec": {
   "display_name": "Python 3",
   "language": "python",
   "name": "python3"
  },
  "language_info": {
   "codemirror_mode": {
    "name": "ipython",
    "version": 3
   },
   "file_extension": ".py",
   "mimetype": "text/x-python",
   "name": "python",
   "nbconvert_exporter": "python",
   "pygments_lexer": "ipython3",
   "version": "3.7.3"
  }
 },
 "nbformat": 4,
 "nbformat_minor": 2
}
