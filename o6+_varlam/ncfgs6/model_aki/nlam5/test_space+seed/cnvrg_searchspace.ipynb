{
 "cells": [
  {
   "cell_type": "code",
   "execution_count": 2,
   "metadata": {},
   "outputs": [],
   "source": [
    "import numpy as np"
   ]
  },
  {
   "cell_type": "code",
   "execution_count": 3,
   "metadata": {},
   "outputs": [],
   "source": [
    "orbs=['1s','2s','2p','3s','3s','3p']"
   ]
  },
  {
   "cell_type": "code",
   "execution_count": 4,
   "metadata": {},
   "outputs": [],
   "source": [
    "# first search space:\n",
    "#\n",
    "# 1s=[0.2,2]\n",
    "# 2s=[0.2,2]\n",
    "# 2p=[0.2,2]\n",
    "#\n",
    "# Total loss:\n",
    "#       J =  17.74824214450847\n",
    "#       J =  14.710073776173791\n",
    "#       J =  9.72244451233508\n",
    "#       J =  11.541065693330046\n",
    "#       J =  10.065713137346297\n",
    "#       J =  9.902739272546423\n",
    "#       J =  11.139098449385314\n",
    "#       J =  7.687136625837533\n",
    "#       J =  7.081863749794012\n",
    "#       J =  8.016395180309267\n",
    "#       J =  6.241815847951008\n",
    "#       J =  5.812334814701987\n",
    "#       J =  5.579544002306036 <<<<< Best value\n",
    "#       J =  5.579544002306036\n",
    "#       J =  5.579544002306036\n",
    "#\n",
    "# Lambda values:\n",
    "#  lambda =  1.1900  0.8300  1.0100  0.8300  0.4700 \n",
    "#  lambda =  1.1983  0.9314  1.1338  0.8845  1.1220 \n",
    "#  lambda =  1.2328  1.0722  0.2000  0.9958  0.4157 \n",
    "#  lambda =  1.3098  0.9614  0.8455  0.9103  0.2000 \n",
    "#  lambda =  1.2557  1.0437  0.4795  0.9873  0.2000 \n",
    "#  lambda =  1.3233  0.8783  1.1373  0.8460  0.9167 \n",
    "#  lambda =  1.1638  1.0630  0.2000  1.0136  0.2000 \n",
    "#  lambda =  1.2231  1.0166  0.5546  0.9703  0.2000 \n",
    "#  lambda =  1.1451  1.0062  0.2000  0.9581  0.2000 \n",
    "#  lambda =  1.2025  0.9783  0.2000  0.9260  0.2000 \n",
    "#  lambda =  1.2331  0.9811  0.8064  0.9351  0.2000 \n",
    "#  lambda =  1.2256  0.9883  0.7662  0.9356  0.5449 \n",
    "#  lambda =  1.2168  1.0120  0.5323  0.9556  0.2000  <<<<< Best value\n",
    "#  lambda =  1.2168  1.0120  0.5323  0.9556  0.2000 \n",
    "#  lambda =  1.2168  1.0120  0.5323  0.9556  0.2000\n"
   ]
  },
  {
   "cell_type": "code",
   "execution_count": 5,
   "metadata": {},
   "outputs": [],
   "source": [
    "# minimum found in first search space (with initer=50 and maxevals=40)\n",
    "vspace1=np.array([1.2168,  1.0120,  0.5323,  0.9556,  0.2000]) "
   ]
  },
  {
   "cell_type": "code",
   "execution_count": null,
   "metadata": {},
   "outputs": [],
   "source": []
  },
  {
   "cell_type": "code",
   "execution_count": 8,
   "metadata": {},
   "outputs": [
    {
     "name": "stdout",
     "output_type": "stream",
     "text": [
      "maxlam: \n",
      "  - 1.42 \n",
      "  - 1.21 \n",
      "  - 0.73 \n",
      "  - 1.16 \n",
      "  - 0.40 \n",
      "minlam: \n",
      "  - 1.02 \n",
      "  - 0.81 \n",
      "  - 0.33 \n",
      "  - 0.76 \n",
      "  - 0.001 \n"
     ]
    }
   ],
   "source": [
    "# second search space is defined within 40% of last minimum found\n",
    "eps=0.2\n",
    "print(\"maxlam: \")\n",
    "for i in vspace1:\n",
    "#     print(' - {:.1f} '.format(i*(1+eps)))\n",
    "    print('  - {:.2f} '.format(round(i+eps,2)))\n",
    "print(\"minlam: \")\n",
    "for i in vspace1:\n",
    "#     print(' - {:.1f} '.format(i*(1-eps)))\n",
    "    if i-eps>0.001: print('  - {:.2f} '.format(round(i-eps,2)))\n",
    "    if i-eps<0.001: print('  - {:.3f} '.format(0.001))"
   ]
  },
  {
   "cell_type": "code",
   "execution_count": null,
   "metadata": {},
   "outputs": [],
   "source": []
  },
  {
   "cell_type": "code",
   "execution_count": 15,
   "metadata": {},
   "outputs": [],
   "source": [
    "# minimum found in second search space (with initer=40 and maxevals=30)\n",
    "vspace2=np.array([1.2355,  1.0258,  0.2190]) # == total loss = 3.2905 %"
   ]
  },
  {
   "cell_type": "code",
   "execution_count": 29,
   "metadata": {},
   "outputs": [
    {
     "name": "stdout",
     "output_type": "stream",
     "text": [
      "maxlam: \n",
      "  - 1.36 \n",
      "  - 1.13 \n",
      "  - 0.24 \n",
      "minlam: \n",
      "  - 1.11 \n",
      "  - 0.92 \n",
      "  - 0.20 \n"
     ]
    }
   ],
   "source": [
    "# third search space is defined within 30% of last minimum found\n",
    "eps=0.1\n",
    "print(\"maxlam: \")\n",
    "for i in vspace2:\n",
    "    print('  - {:.2f} '.format(round(i*(1+eps),2)))\n",
    "print(\"minlam: \")\n",
    "for i in vspace2:\n",
    "    print('  - {:.2f} '.format(round(i*(1-eps),2)))"
   ]
  },
  {
   "cell_type": "code",
   "execution_count": null,
   "metadata": {},
   "outputs": [],
   "source": []
  },
  {
   "cell_type": "code",
   "execution_count": null,
   "metadata": {},
   "outputs": [],
   "source": [
    "# minimum found in second search space (with initer=40 and maxevals=30)\n",
    "vspace3=np.array([])"
   ]
  }
 ],
 "metadata": {
  "kernelspec": {
   "display_name": "Python 3",
   "language": "python",
   "name": "python3"
  },
  "language_info": {
   "codemirror_mode": {
    "name": "ipython",
    "version": 3
   },
   "file_extension": ".py",
   "mimetype": "text/x-python",
   "name": "python",
   "nbconvert_exporter": "python",
   "pygments_lexer": "ipython3",
   "version": "3.7.4"
  }
 },
 "nbformat": 4,
 "nbformat_minor": 2
}
